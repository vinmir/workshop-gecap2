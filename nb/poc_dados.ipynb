{
 "cells": [
  {
   "cell_type": "code",
   "execution_count": 112,
   "id": "383ef125-cb6c-4e4a-876b-34b53de77e44",
   "metadata": {},
   "outputs": [],
   "source": [
    "import matplotlib.pyplot as plt\n",
    "import scienceplots\n",
    "\n",
    "\n",
    "import numpy as np\n",
    "import scipy.stats\n",
    "import pandas as pd\n",
    "\n",
    "import datetime\n",
    "\n",
    "import sqlalchemy as sqla"
   ]
  },
  {
   "cell_type": "code",
   "execution_count": 2,
   "id": "a1252241-7bd8-466c-89fc-5827b300f726",
   "metadata": {},
   "outputs": [],
   "source": [
    "plt.style.use(['science','no-latex'])"
   ]
  },
  {
   "cell_type": "code",
   "execution_count": 7,
   "id": "559ae401-7a51-4b54-8c1b-de15b50b1b94",
   "metadata": {},
   "outputs": [],
   "source": [
    "from scipy.stats import norm"
   ]
  },
  {
   "cell_type": "code",
   "execution_count": 116,
   "id": "6fb042b0-84e9-488b-8eb3-2b633fb1c42f",
   "metadata": {},
   "outputs": [],
   "source": [
    "rv = norm(loc=43200, scale=7200)"
   ]
  },
  {
   "cell_type": "code",
   "execution_count": 86,
   "id": "849753e8-ee89-4269-bacb-5ed0d53b18cb",
   "metadata": {},
   "outputs": [
    {
     "data": {
      "image/png": "[encoded data removed]",
      "text/plain": [
       "<Figure size 1300x800 with 1 Axes>"
      ]
     },
     "metadata": {},
     "output_type": "display_data"
    }
   ],
   "source": [
    "fig, ax = plt.subplots(figsize=(13,8))\n",
    "\n",
    "ax.hist(rv.rvs(2000), bins=25, rwidth=0.99, edgecolor='black')\n",
    "ax.set(xlabel='In`icio [s]', ylabel='Contagem absoluta')\n",
    "plt.show()\n",
    "\n",
    "# fig.savefig(bbox_inches='tight', fname='temp.pdf')"
   ]
  },
  {
   "cell_type": "code",
   "execution_count": 89,
   "id": "6939132e-0176-4206-a59f-dd4cd80a19e4",
   "metadata": {},
   "outputs": [],
   "source": [
    "ids_jogadores = np.arange(1, 40000+1, dtype=int)"
   ]
  },
  {
   "cell_type": "code",
   "execution_count": 106,
   "id": "d8b2dfe1-1abe-4f8e-8830-d8608d971deb",
   "metadata": {},
   "outputs": [
    {
     "data": {
      "text/plain": [
       "1000000"
      ]
     },
     "execution_count": 106,
     "metadata": {},
     "output_type": "execute_result"
    }
   ],
   "source": [
    "np.int32(np.floor(1e6))"
   ]
  },
  {
   "cell_type": "code",
   "execution_count": 156,
   "id": "02d64a15-2d49-49bc-ad6f-2a9694e6e402",
   "metadata": {},
   "outputs": [
    {
     "data": {
      "text/plain": [
       "'2025-02-24 00:08:20'"
      ]
     },
     "execution_count": 156,
     "metadata": {},
     "output_type": "execute_result"
    }
   ],
   "source": [
    "data = datetime.datetime.fromisoformat('2025-02-24')\n",
    "(data + datetime.timedelta(seconds=500)).isoformat(sep=' ')"
   ]
  },
  {
   "cell_type": "code",
   "execution_count": 171,
   "id": "a5cd1319-c837-4738-8035-60bcaca2ed2d",
   "metadata": {},
   "outputs": [
    {
     "data": {
      "text/plain": [
       "6"
      ]
     },
     "execution_count": 171,
     "metadata": {},
     "output_type": "execute_result"
    }
   ],
   "source": [
    "data = datetime.datetime.fromisoformat('2025-03-02')\n",
    "data.weekday()\n"
   ]
  },
  {
   "cell_type": "code",
   "execution_count": 121,
   "id": "00bc460c-738b-4355-bdc2-e3ad159b1dd7",
   "metadata": {},
   "outputs": [
    {
     "data": {
      "text/plain": [
       "42882.29313519225"
      ]
     },
     "execution_count": 121,
     "metadata": {},
     "output_type": "execute_result"
    }
   ],
   "source": [
    "rv.rvs(1)[0]"
   ]
  },
  {
   "cell_type": "code",
   "execution_count": 146,
   "id": "b7062636-a1d3-4201-afa8-ff93c534330b",
   "metadata": {},
   "outputs": [
    {
     "data": {
      "text/plain": [
       "'2025-03-03T15:09:05.015171'"
      ]
     },
     "execution_count": 146,
     "metadata": {},
     "output_type": "execute_result"
    }
   ],
   "source": [
    "(data + datetime.timedelta(seconds=rv.rvs(1)[0])).isoformat()"
   ]
  },
  {
   "cell_type": "code",
   "execution_count": 113,
   "id": "3aceb7bb-d1db-479d-aad1-a35957d59e36",
   "metadata": {},
   "outputs": [],
   "source": [
    "ids_jogadores_sessoes = np.random.choice(ids_jogadores, np.int32(np.floor(5000)))\n",
    "\n"
   ]
  },
  {
   "cell_type": "code",
   "execution_count": 295,
   "id": "39bd99d6-d35a-4e43-81d3-6623a54f8110",
   "metadata": {},
   "outputs": [],
   "source": [
    "ids_sessoes = np.arange(1,5000+1,dtype=np.int32)\n",
    "so_sessoes = np.random.choice(['Windows', 'Mac', 'Linux'], p=[0.7, .25, .05], size=5000)\n",
    "trilhas = np.random.choice(['Facil', 'Medio', 'Dificil'], p=[0.5, .3, .2], size=5000)\n",
    "versoes = np.random.choice(['2.0.0', '2.1.0'], p=[0.9, .1], size=5000)\n",
    "horarios = rv.rvs(5000)\n"
   ]
  },
  {
   "cell_type": "code",
   "execution_count": 297,
   "id": "b04ada8b-b60e-40df-8dc8-a52c0cf64c54",
   "metadata": {},
   "outputs": [],
   "source": [
    "dia = datetime.datetime.fromisoformat('2025-02-24')"
   ]
  },
  {
   "cell_type": "code",
   "execution_count": 298,
   "id": "5d6c866b-533b-496d-b764-5124338666d6",
   "metadata": {
    "scrolled": true
   },
   "outputs": [],
   "source": [
    "arr=[]\n",
    "for i in range(ids_sessoes.size):\n",
    "    id_sessao = ids_sessoes[i]\n",
    "    id_jogador = ids_jogadores_sessoes[i]\n",
    "    so_sessao = so_sessoes[i]\n",
    "    trilha = trilhas[i]\n",
    "    versao_jogo = versoes[i]\n",
    "    ts_criacao = dia + datetime.timedelta(seconds=horarios[i])\n",
    "    arr.append([id_sessao, id_jogador, so_sessao, trilha, ts_criacao, versao_jogo])\n",
    "\n"
   ]
  },
  {
   "cell_type": "code",
   "execution_count": 299,
   "id": "13c05461-98ff-4023-a6ef-232319edb71e",
   "metadata": {},
   "outputs": [],
   "source": [
    "df = pd.DataFrame(arr, columns=['id_sessao','id_jogador','so_sessao','trilha','ts_criacao','versao_jogo'])\n"
   ]
  },
  {
   "cell_type": "code",
   "execution_count": 313,
   "id": "477a5aab-b558-45bc-b8c8-140981e8223a",
   "metadata": {},
   "outputs": [],
   "source": [
    "df2=df.groupby([\n",
    "    df['ts_criacao'].dt.floor('30min'),\n",
    "    df['so_sessao'],\n",
    "    df['trilha'],\n",
    "    df['versao_jogo']\n",
    "]).count()\n"
   ]
  },
  {
   "cell_type": "code",
   "execution_count": 329,
   "id": "33e06405-d653-4a05-9e15-5a937fc10324",
   "metadata": {},
   "outputs": [
    {
     "data": {
      "text/plain": [
       "ts_criacao\n",
       "2025-02-24 05:00:00      1\n",
       "2025-02-24 06:00:00      4\n",
       "2025-02-24 06:30:00      9\n",
       "2025-02-24 07:00:00     18\n",
       "2025-02-24 07:30:00     37\n",
       "2025-02-24 08:00:00     72\n",
       "2025-02-24 08:30:00    105\n",
       "2025-02-24 09:00:00    114\n",
       "2025-02-24 09:30:00    204\n",
       "2025-02-24 10:00:00    251\n",
       "2025-02-24 10:30:00    290\n",
       "2025-02-24 11:00:00    328\n",
       "2025-02-24 11:30:00    325\n",
       "2025-02-24 12:00:00    345\n",
       "2025-02-24 12:30:00    320\n",
       "2025-02-24 13:00:00    300\n",
       "2025-02-24 13:30:00    246\n",
       "2025-02-24 14:00:00    209\n",
       "2025-02-24 14:30:00    126\n",
       "2025-02-24 15:00:00     83\n",
       "2025-02-24 15:30:00     63\n",
       "2025-02-24 16:00:00     29\n",
       "2025-02-24 16:30:00     21\n",
       "2025-02-24 17:00:00     19\n",
       "2025-02-24 17:30:00      4\n",
       "2025-02-24 18:00:00      2\n",
       "2025-02-24 18:30:00      1\n",
       "Name: id_sessao, dtype: int64"
      ]
     },
     "execution_count": 329,
     "metadata": {},
     "output_type": "execute_result"
    }
   ],
   "source": [
    "df2.loc[:,'Windows',:,:]['id_sessao'].groupby(level=[0]).sum()"
   ]
  },
  {
   "cell_type": "code",
   "execution_count": 332,
   "id": "ac4bea1e-fae5-4814-808f-9668d56929b1",
   "metadata": {},
   "outputs": [
    {
     "data": {
      "text/plain": [
       "<Axes: xlabel='ts_criacao'>"
      ]
     },
     "execution_count": 332,
     "metadata": {},
     "output_type": "execute_result"
    },
    {
     "data": {
      "image/png": "[encoded data removed]",
      "text/plain": [
       "<Figure size 350x262.5 with 1 Axes>"
      ]
     },
     "metadata": {},
     "output_type": "display_data"
    }
   ],
   "source": [
    "df2.loc[:,'Windows',:,:]['id_sessao'].groupby(axis=0, level=[0]).sum().plot()\n",
    "df2.loc[:,'Linux',:,:]['id_sessao'].groupby(axis=0, level=[0]).sum().plot()\n",
    "df2.loc[:,'Mac',:,:]['id_sessao'].groupby(axis=0, level=[0]).sum().plot()\n",
    "# df2.loc[:,'Windows','Medio','2.1.0']['id_sessao'].plot()\n",
    "# df2.loc[:,'Windows','Dificil','2.1.0']['id_sessao'].plot()\n",
    "# plt.legend()"
   ]
  }
 ],
 "metadata": {
  "kernelspec": {
   "display_name": "Python 3 (ipykernel)",
   "language": "python",
   "name": "python3"
  },
  "language_info": {
   "codemirror_mode": {
    "name": "ipython",
    "version": 3
   },
   "file_extension": ".py",
   "mimetype": "text/x-python",
   "name": "python",
   "nbconvert_exporter": "python",
   "pygments_lexer": "ipython3",
   "version": "3.11.7"
  }
 },
 "nbformat": 4,
 "nbformat_minor": 5
}
