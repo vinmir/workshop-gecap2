{
 "cells": [
  {
   "cell_type": "code",
   "execution_count": 1,
   "id": "383ef125-cb6c-4e4a-876b-34b53de77e44",
   "metadata": {},
   "outputs": [],
   "source": [
    "import matplotlib.pyplot as plt\n",
    "import scienceplots\n",
    "\n",
    "\n",
    "import numpy as np\n",
    "import scipy.stats\n",
    "import pandas as pd\n",
    "\n",
    "import datetime\n",
    "\n",
    "import sqlalchemy as sqla\n",
    "\n",
    "from pathlib import Path"
   ]
  },
  {
   "cell_type": "code",
   "execution_count": 2,
   "id": "a1252241-7bd8-466c-89fc-5827b300f726",
   "metadata": {},
   "outputs": [],
   "source": [
    "plt.style.use(['science','no-latex'])"
   ]
  },
  {
   "cell_type": "code",
   "execution_count": null,
   "id": "ae1f1c40-88ba-4ed7-9209-8de1b517068d",
   "metadata": {},
   "outputs": [],
   "source": []
  },
  {
   "cell_type": "code",
   "execution_count": null,
   "id": "07b3e0a2-00ce-47af-9aa5-416304434b33",
   "metadata": {},
   "outputs": [],
   "source": []
  },
  {
   "cell_type": "code",
   "execution_count": 5,
   "id": "6939132e-0176-4206-a59f-dd4cd80a19e4",
   "metadata": {},
   "outputs": [],
   "source": []
  },
  {
   "cell_type": "code",
   "execution_count": 10,
   "id": "81f079e0-edc6-4549-bf4b-fc395900d871",
   "metadata": {},
   "outputs": [],
   "source": [
    "dtypes={'trilha': 'object', 'nivel': np.int32, \n",
    "           'prob_conclusao': np.float64, 'prob_continuar':np.float64}\n",
    "df_prob = pd.DataFrame(np.array([\n",
    "    ['Facil', 1, 0.97, 0.99],\n",
    "    ['Facil', 2, 0.97, 0.99],\n",
    "    ['Facil', 3, 0.95, 0.99],\n",
    "    ['Facil', 4, 0.95, 0.99],\n",
    "    ['Facil', 5, 0.93, 0.99],\n",
    "    ['Medio', 1, 0.97, 0.99],\n",
    "    ['Medio', 2, 0.97, 0.99],\n",
    "    ['Medio', 3, 0.95, 0.99],\n",
    "    ['Medio', 4, 0.95, 0.99],\n",
    "    ['Medio', 5, 0.93, 0.99],\n",
    "    ['Medio', 6, 0.90, 0.99],\n",
    "    ['Medio', 7, 0.90, 0.99],\n",
    "    ['Medio', 8, 0.85, 0.99],\n",
    "    ['Dificil', 1, 0.97, 0.99],\n",
    "    ['Dificil', 2, 0.97, 0.99],\n",
    "    ['Dificil', 3, 0.95, 0.99],\n",
    "    ['Dificil', 4, 0.95, 0.99],\n",
    "    ['Dificil', 5, 0.93, 0.99],\n",
    "    ['Dificil', 6, 0.90, 0.99],\n",
    "    ['Dificil', 7, 0.90, 0.99],\n",
    "    ['Dificil', 8, 0.85, 0.99], \n",
    "    ['Dificil', 9, 0.85, 0.99], \n",
    "    ['Dificil', 10, 0.80, 0.99], \n",
    "    ['Dificil', 11, 0.80, 0.99], \n",
    "    ['Dificil', 12, 0.77, 0.99], \n",
    "    ['Dificil', 13, 0.70, 0.99]\n",
    "]), columns=['trilha','nivel','prob_conclusao','prob_continuar'])\n",
    "df_prob = df_prob.astype(dtype=dtypes).set_index(['trilha','nivel'])\n",
    "\n"
   ]
  },
  {
   "cell_type": "code",
   "execution_count": 43,
   "id": "5c228939-7e0b-4bf2-a191-aa1a3b5d64a2",
   "metadata": {},
   "outputs": [],
   "source": [
    "def limpa_arquivo(arquivo):\n",
    "    if arquivo.exists(): arquivo.unlink()\n",
    "\n",
    "def salva_arquivos(dia, header, arquivo_sessao, arquivo_eventos):\n",
    "    # Gera dados de sessao_jogador\n",
    "    arr=[]\n",
    "    for i in range(ids_sessoes.size):\n",
    "        id_sessao = ids_sessoes[i]\n",
    "        id_jogador = ids_jogadores_sessoes[i]\n",
    "        so_sessao = so_sessoes[i]\n",
    "        trilha = trilhas[i]\n",
    "        versao_jogo = versoes[i]\n",
    "        ts_criacao = dia + datetime.timedelta(seconds=horarios[i])\n",
    "        arr.append([id_sessao, id_jogador, so_sessao, trilha, ts_criacao, versao_jogo])\n",
    "    \n",
    "    df_sessoes = pd.DataFrame(arr, columns=['id_sessao','id_jogador','so_sessao','trilha','ts_criacao','versao_jogo'])\n",
    "    df_sessoes.to_csv(path_or_buf=arquivo_sessao, header=header, index=False, mode='a')\n",
    "    \n",
    "    # Gera dados de eventos para cada sessao\n",
    "    arr = []\n",
    "    dist_tempo_nivel = scipy.stats.norm(loc=60,scale=10)\n",
    "    for index, row in df_sessoes.reset_index().iterrows():\n",
    "        # if index > 2: break\n",
    "        id_sessao = row['id_sessao']\n",
    "        trilha = row['trilha']\n",
    "        ts_evento = row['ts_criacao']\n",
    "        for nivel, (p_concluir, p_continuar) in df_prob.loc[trilha,:].iterrows():\n",
    "            # print(id_sessao, trilha, nivel, ts_evento, 'I')\n",
    "            arr.append([id_sessao, ts_evento, nivel, 'I'])\n",
    "            if np.random.random_sample() < p_concluir:\n",
    "                ts_evento += + datetime.timedelta(seconds=dist_tempo_nivel.rvs())\n",
    "                # print(id_sessao, trilha, nivel, ts_evento, 'F')\n",
    "                arr.append([id_sessao, ts_evento, nivel, 'F'])\n",
    "            if np.random.random_sample() < (1-p_continuar):\n",
    "                break\n",
    "            ts_evento += + datetime.timedelta(seconds=10)\n",
    "    \n",
    "    df_eventos = pd.DataFrame(arr, columns=['id_sessao','ts_evento','nivel','indicador'])\n",
    "    df_eventos.to_csv(arquivo_eventos, mode='a', index=False, header=header)\n",
    "    "
   ]
  },
  {
   "cell_type": "code",
   "execution_count": 101,
   "id": "2f1d615f-3073-4b19-bda1-d07ab515c44e",
   "metadata": {},
   "outputs": [],
   "source": [
    "dist_max_sess_dia_util = scipy.stats.norm(5000, 100)\n",
    "dist_max_sess_fim_semana = scipy.stats.norm(8000, 500)\n",
    "dist_inicio_sessao = scipy.stats.norm(43200,7200)\n",
    "dist_tempo_nivel = scipy.stats.norm(loc=60,scale=10)\n",
    "\n",
    "lista_dias = pd.date_range('2025-02-03', '2025-03-09', freq='1D')\n",
    "\n",
    "def cria_sessoes(dia: pd.Timestamp, id_sessao_anterior, arquivo_sessao, arquivo_eventos, header):\n",
    "    # Gera dados de sessao_jogador\n",
    "    if dia.weekday() in (5,6):\n",
    "        #Fim de semana. Crie mais sessões\n",
    "        max_sessoes_criadas = np.int32(dist_max_sess_fim_semana.rvs())\n",
    "    else:\n",
    "        #Dia de semana. Crie menos sessões\n",
    "        max_sessoes_criadas = np.int32(dist_max_sess_dia_util.rvs())\n",
    "\n",
    "    file_sessoes = arquivo_sessao.open(mode='a')\n",
    "    file_eventos = arquivo_eventos.open(mode='a')\n",
    "    \n",
    "    if header==True:\n",
    "        file_sessoes.write(\"id_sessao,id_jogador,so_sessao,trilha,ts_criacao,versao_jogo\\n\")\n",
    "        file_eventos.write(\"id_sessao,ts_evento,nivel,indicador_conclusao\\n\")\n",
    "    \n",
    "    for id_sessao in range(id_sessao_anterior+1, id_sessao_anterior+1+max_sessoes_criadas):\n",
    "        \n",
    "        id_jogador = np.random.choice(ids_jogadores)\n",
    "        so_sessao = np.random.choice(['Windows', 'Mac', 'Linux'], p=[0.7, .25, .05])\n",
    "        trilha = np.random.choice(['Facil', 'Medio', 'Dificil'], p=[0.5, .3, .2])\n",
    "        versao_jogo = np.random.choice(['1.5.3', '2.1.9'], p=[0.9, .1])\n",
    "        ts_criacao = dia + datetime.timedelta(seconds=dist_inicio_sessao.rvs())\n",
    "\n",
    "        file_sessoes.write(f\"{id_sessao},{id_jogador},{so_sessao},{trilha},{ts_criacao},{versao_jogo}\\n\")\n",
    "        \n",
    "        cria_eventos(id_sessao, ts_criacao, trilha, file_eventos)\n",
    "        \n",
    "    return id_sessao_anterior+max_sessoes_criadas\n",
    "\n",
    "def cria_eventos(id_sessao, ts_criacao, trilha, file_eventos):\n",
    "    ts_evento = ts_criacao\n",
    "    for nivel, (p_concluir, p_continuar) in df_prob.loc[trilha,:].iterrows():\n",
    "        file_eventos.write(f\"{id_sessao},{ts_evento},{nivel},I\\n\")\n",
    "        if np.random.random_sample() < p_concluir:\n",
    "            ts_evento += + datetime.timedelta(seconds=dist_tempo_nivel.rvs())\n",
    "            file_eventos.write(f\"{id_sessao},{ts_evento},{nivel},F\\n\")\n",
    "        if np.random.random_sample() < (1-p_continuar):\n",
    "            break\n",
    "        ts_evento += + datetime.timedelta(seconds=10)    \n"
   ]
  },
  {
   "cell_type": "code",
   "execution_count": 106,
   "id": "900a47f0-e0a8-46b0-ad74-2b4ec35fb3a9",
   "metadata": {},
   "outputs": [
    {
     "name": "stdout",
     "output_type": "stream",
     "text": [
      "True 2025-02-03 00:00:00 4968\n",
      "False 2025-02-04 00:00:00 9788\n",
      "False 2025-02-05 00:00:00 14851\n",
      "False 2025-02-06 00:00:00 19944\n",
      "False 2025-02-07 00:00:00 25017\n",
      "False 2025-02-08 00:00:00 33259\n",
      "False 2025-02-09 00:00:00 40016\n",
      "False 2025-02-10 00:00:00 44972\n",
      "False 2025-02-11 00:00:00 49949\n",
      "False 2025-02-12 00:00:00 54970\n",
      "False 2025-02-13 00:00:00 60072\n",
      "False 2025-02-14 00:00:00 65013\n",
      "False 2025-02-15 00:00:00 73008\n",
      "False 2025-02-16 00:00:00 80109\n",
      "False 2025-02-17 00:00:00 85200\n",
      "False 2025-02-18 00:00:00 90383\n",
      "False 2025-02-19 00:00:00 95304\n",
      "False 2025-02-20 00:00:00 100353\n",
      "False 2025-02-21 00:00:00 105336\n",
      "False 2025-02-22 00:00:00 112451\n",
      "False 2025-02-23 00:00:00 120551\n",
      "False 2025-02-24 00:00:00 125542\n",
      "False 2025-02-25 00:00:00 130584\n",
      "False 2025-02-26 00:00:00 135673\n",
      "False 2025-02-27 00:00:00 140772\n",
      "False 2025-02-28 00:00:00 145785\n",
      "False 2025-03-01 00:00:00 153083\n",
      "False 2025-03-02 00:00:00 161188\n",
      "False 2025-03-03 00:00:00 166170\n",
      "False 2025-03-04 00:00:00 171399\n",
      "False 2025-03-05 00:00:00 176426\n",
      "False 2025-03-06 00:00:00 181467\n",
      "False 2025-03-07 00:00:00 186344\n",
      "False 2025-03-08 00:00:00 194781\n",
      "False 2025-03-09 00:00:00 202861\n",
      "CPU times: user 8min 4s, sys: 3.67 s, total: 8min 8s\n",
      "Wall time: 8min 15s\n"
     ]
    }
   ],
   "source": [
    "%%time\n",
    "\n",
    "arquivo_sessao=Path(\"../data/sessao_jogador.csv\")\n",
    "arquivo_eventos=Path(\"../data/eventos_sessao.csv\")\n",
    "if arquivo_sessao.exists(): arquivo_sessao.unlink()\n",
    "if arquivo_eventos.exists(): arquivo_eventos.unlink()\n",
    "\n",
    "for i, dia in enumerate(lista_dias):\n",
    "    # print(i, dia)\n",
    "    if i==0:\n",
    "        header = True\n",
    "        ultima_id_sessao = 0\n",
    "    else:\n",
    "        header = False\n",
    "    ultima_id_sessao = cria_sessoes(dia, ultima_id_sessao, arquivo_sessao, arquivo_eventos, header=True)\n",
    "    print(header, dia, ultima_id_sessao)\n",
    "\n",
    "# ultima_id_sessao = cria_sessoes(dia1, 0, arquivo_sessao, arquivo_eventos, header=True)\n",
    "# cria_sessoes(dia2,ultima_id_sessao,arquivo_sessao, arquivo_eventos, header=False)\n"
   ]
  },
  {
   "cell_type": "code",
   "execution_count": 116,
   "id": "a4383825-7387-4ab9-a13c-71d7ea24c0bf",
   "metadata": {},
   "outputs": [
    {
     "data": {
      "text/plain": [
       "0        2025-02-03 12:13:17.358419\n",
       "1        2025-02-03 12:29:49.578749\n",
       "2        2025-02-03 10:53:56.952750\n",
       "3        2025-02-03 12:25:24.308979\n",
       "4        2025-02-03 12:38:16.234452\n",
       "                    ...            \n",
       "202856   2025-03-09 09:20:59.054545\n",
       "202857   2025-03-09 12:11:58.499045\n",
       "202858   2025-03-09 14:45:30.933285\n",
       "202859   2025-03-09 13:02:55.337310\n",
       "202860   2025-03-09 13:10:11.139586\n",
       "Name: ts_criacao, Length: 202861, dtype: datetime64[ns]"
      ]
     },
     "execution_count": 116,
     "metadata": {},
     "output_type": "execute_result"
    }
   ],
   "source": [
    "pd.to_datetime(df['ts_criacao'])\n",
    "# df['ts_criacao']"
   ]
  },
  {
   "cell_type": "code",
   "execution_count": 119,
   "id": "c4d0b57b-6a6e-4a26-bdca-2fcd3b11f9f3",
   "metadata": {},
   "outputs": [
    {
     "data": {
      "text/plain": [
       "id_sessao               int32\n",
       "id_jogador              int32\n",
       "so_sessao              object\n",
       "trilha                 object\n",
       "ts_criacao     datetime64[ns]\n",
       "versao_jogo            object\n",
       "dtype: object"
      ]
     },
     "execution_count": 119,
     "metadata": {},
     "output_type": "execute_result"
    }
   ],
   "source": [
    "df.astype({'ts_criacao':'datetime64[ns]', 'id_sessao':'int32','id_jogador':'int32'}).dtypes"
   ]
  },
  {
   "cell_type": "code",
   "execution_count": 122,
   "id": "056a3508-d7fb-4f34-8bfd-fadaf69e8058",
   "metadata": {},
   "outputs": [],
   "source": [
    "df = pd.read_csv(\"../data/sessao_jogador.csv\")\n",
    "df = df.astype({'ts_criacao':'datetime64[ns]', 'id_sessao':'int32','id_jogador':'int32'})\n",
    "# df['ts_criacao'] = pd.to_datetime(df['ts_criacao'])"
   ]
  },
  {
   "cell_type": "code",
   "execution_count": 131,
   "id": "7ad23f68-ed23-4dd0-9033-e504b79d7624",
   "metadata": {},
   "outputs": [
    {
     "name": "stdout",
     "output_type": "stream",
     "text": [
      "/home/vinicius/Vinicius/Desenvolvimento/workshop-gecap2-25/nb\n"
     ]
    }
   ],
   "source": [
    "!pwd"
   ]
  },
  {
   "cell_type": "code",
   "execution_count": 134,
   "id": "148d3b62-7183-41d6-b087-750dbaeb155a",
   "metadata": {},
   "outputs": [],
   "source": [
    "workshop_db_engine = sqla.create_engine(\"sqlite:///../db/workshop.db\")\n"
   ]
  },
  {
   "cell_type": "code",
   "execution_count": 139,
   "id": "f238f449-917d-4712-bb9a-fdea089435f7",
   "metadata": {},
   "outputs": [
    {
     "data": {
      "text/plain": [
       "Index(['id_sessao', 'id_jogador', 'so_sessao', 'trilha', 'ts_criacao',\n",
       "       'versao_jogo'],\n",
       "      dtype='object')"
      ]
     },
     "execution_count": 139,
     "metadata": {},
     "output_type": "execute_result"
    }
   ],
   "source": []
  },
  {
   "cell_type": "code",
   "execution_count": 141,
   "id": "e0a429c2-6b50-4d2b-848f-b2409723ad73",
   "metadata": {},
   "outputs": [
    {
     "data": {
      "text/plain": [
       "202861"
      ]
     },
     "execution_count": 141,
     "metadata": {},
     "output_type": "execute_result"
    }
   ],
   "source": [
    "df.to_sql('sessao_jogador',workshop_db_engine, if_exists='append', index=False)\n"
   ]
  },
  {
   "cell_type": "code",
   "execution_count": 144,
   "id": "1b5eb95b-1274-4db6-9a7f-37f2855a1b02",
   "metadata": {},
   "outputs": [],
   "source": [
    "df = pd.read_csv(\"../data/eventos_sessao.csv\")\n",
    "df = df.astype({'ts_evento':'datetime64[ns]', 'id_sessao':'int32','nivel':'int32'})"
   ]
  },
  {
   "cell_type": "code",
   "execution_count": 146,
   "id": "0a4fe922-e0b2-4c5c-a16e-ecfa83ddaa82",
   "metadata": {},
   "outputs": [
    {
     "data": {
      "text/plain": [
       "2809886"
      ]
     },
     "execution_count": 146,
     "metadata": {},
     "output_type": "execute_result"
    }
   ],
   "source": [
    "df.to_sql('eventos_sessao',workshop_db_engine, if_exists='append', index=False)"
   ]
  },
  {
   "cell_type": "markdown",
   "id": "477df308-7c6e-42da-abea-71a1f617b3db",
   "metadata": {},
   "source": [
    "# Carrega dfs"
   ]
  },
  {
   "cell_type": "code",
   "execution_count": 226,
   "id": "b17c567a-cd45-4ec1-9a54-10271c1d3e65",
   "metadata": {},
   "outputs": [],
   "source": [
    "workshop_db_engine = sqla.create_engine(\"sqlite:///../db/workshop.db\")"
   ]
  },
  {
   "cell_type": "code",
   "execution_count": 270,
   "id": "256e19a5-1f64-431e-b1cb-8aab033d993a",
   "metadata": {},
   "outputs": [],
   "source": [
    "# df_sj_base = (pd.read_sql('sessao_jogador', workshop_db_engine)\n",
    "#                 .astype({'ts_criacao':'datetime64[ns]'})\n",
    "#              )\n",
    "\n",
    "df_es_base = (pd.read_sql(\"\"\"SELECT es.* FROM eventos_sessao es where date(es.ts_evento ) = '2025-02-11'\"\"\", workshop_db_engine)\n",
    "                .astype({'ts_evento':'datetime64[ns]'})\n",
    "             ).set_index(['id_sessao'])"
   ]
  },
  {
   "cell_type": "code",
   "execution_count": 271,
   "id": "0abe3ae0-99be-4718-a324-62d761eab65f",
   "metadata": {
    "scrolled": true
   },
   "outputs": [
    {
     "ename": "ValueError",
     "evalue": "cannot reindex on an axis with duplicate labels",
     "output_type": "error",
     "traceback": [
      "\u001b[31m---------------------------------------------------------------------------\u001b[39m",
      "\u001b[31mValueError\u001b[39m                                Traceback (most recent call last)",
      "\u001b[36mCell\u001b[39m\u001b[36m \u001b[39m\u001b[32mIn[271]\u001b[39m\u001b[32m, line 1\u001b[39m\n\u001b[32m----> \u001b[39m\u001b[32m1\u001b[39m df_es_base.ts_evento = (df_es_base[(df_es_base.ts_evento > \u001b[33m'\u001b[39m\u001b[33m2025-02-11 12:00:00\u001b[39m\u001b[33m'\u001b[39m) & (df_es_base.ts_evento < \u001b[33m'\u001b[39m\u001b[33m2025-02-11 14:00:00\u001b[39m\u001b[33m'\u001b[39m)].ts_evento + datetime.timedelta(hours=\u001b[32m2\u001b[39m))\n",
      "\u001b[36mFile \u001b[39m\u001b[32m~/anaconda3/lib/python3.11/site-packages/pandas/core/generic.py:6326\u001b[39m, in \u001b[36mNDFrame.__setattr__\u001b[39m\u001b[34m(self, name, value)\u001b[39m\n\u001b[32m   6324\u001b[39m     \u001b[38;5;28mobject\u001b[39m.\u001b[34m__setattr__\u001b[39m(\u001b[38;5;28mself\u001b[39m, name, value)\n\u001b[32m   6325\u001b[39m \u001b[38;5;28;01melif\u001b[39;00m name \u001b[38;5;129;01min\u001b[39;00m \u001b[38;5;28mself\u001b[39m._info_axis:\n\u001b[32m-> \u001b[39m\u001b[32m6326\u001b[39m     \u001b[38;5;28mself\u001b[39m[name] = value\n\u001b[32m   6327\u001b[39m \u001b[38;5;28;01melse\u001b[39;00m:\n\u001b[32m   6328\u001b[39m     \u001b[38;5;28mobject\u001b[39m.\u001b[34m__setattr__\u001b[39m(\u001b[38;5;28mself\u001b[39m, name, value)\n",
      "\u001b[36mFile \u001b[39m\u001b[32m~/anaconda3/lib/python3.11/site-packages/pandas/core/frame.py:4299\u001b[39m, in \u001b[36mDataFrame.__setitem__\u001b[39m\u001b[34m(self, key, value)\u001b[39m\n\u001b[32m   4296\u001b[39m     \u001b[38;5;28mself\u001b[39m._setitem_array([key], value)\n\u001b[32m   4297\u001b[39m \u001b[38;5;28;01melse\u001b[39;00m:\n\u001b[32m   4298\u001b[39m     \u001b[38;5;66;03m# set column\u001b[39;00m\n\u001b[32m-> \u001b[39m\u001b[32m4299\u001b[39m     \u001b[38;5;28mself\u001b[39m._set_item(key, value)\n",
      "\u001b[36mFile \u001b[39m\u001b[32m~/anaconda3/lib/python3.11/site-packages/pandas/core/frame.py:4512\u001b[39m, in \u001b[36mDataFrame._set_item\u001b[39m\u001b[34m(self, key, value)\u001b[39m\n\u001b[32m   4502\u001b[39m \u001b[38;5;28;01mdef\u001b[39;00m \u001b[34m_set_item\u001b[39m(\u001b[38;5;28mself\u001b[39m, key, value) -> \u001b[38;5;28;01mNone\u001b[39;00m:\n\u001b[32m   4503\u001b[39m \u001b[38;5;250m    \u001b[39m\u001b[33;03m\"\"\"\u001b[39;00m\n\u001b[32m   4504\u001b[39m \u001b[33;03m    Add series to DataFrame in specified column.\u001b[39;00m\n\u001b[32m   4505\u001b[39m \n\u001b[32m   (...)\u001b[39m\u001b[32m   4510\u001b[39m \u001b[33;03m    ensure homogeneity.\u001b[39;00m\n\u001b[32m   4511\u001b[39m \u001b[33;03m    \"\"\"\u001b[39;00m\n\u001b[32m-> \u001b[39m\u001b[32m4512\u001b[39m     value, refs = \u001b[38;5;28mself\u001b[39m._sanitize_column(value)\n\u001b[32m   4514\u001b[39m     \u001b[38;5;28;01mif\u001b[39;00m (\n\u001b[32m   4515\u001b[39m         key \u001b[38;5;129;01min\u001b[39;00m \u001b[38;5;28mself\u001b[39m.columns\n\u001b[32m   4516\u001b[39m         \u001b[38;5;129;01mand\u001b[39;00m value.ndim == \u001b[32m1\u001b[39m\n\u001b[32m   4517\u001b[39m         \u001b[38;5;129;01mand\u001b[39;00m \u001b[38;5;129;01mnot\u001b[39;00m \u001b[38;5;28misinstance\u001b[39m(value.dtype, ExtensionDtype)\n\u001b[32m   4518\u001b[39m     ):\n\u001b[32m   4519\u001b[39m         \u001b[38;5;66;03m# broadcast across multiple columns if necessary\u001b[39;00m\n\u001b[32m   4520\u001b[39m         \u001b[38;5;28;01mif\u001b[39;00m \u001b[38;5;129;01mnot\u001b[39;00m \u001b[38;5;28mself\u001b[39m.columns.is_unique \u001b[38;5;129;01mor\u001b[39;00m \u001b[38;5;28misinstance\u001b[39m(\u001b[38;5;28mself\u001b[39m.columns, MultiIndex):\n",
      "\u001b[36mFile \u001b[39m\u001b[32m~/anaconda3/lib/python3.11/site-packages/pandas/core/frame.py:5250\u001b[39m, in \u001b[36mDataFrame._sanitize_column\u001b[39m\u001b[34m(self, value)\u001b[39m\n\u001b[32m   5248\u001b[39m     \u001b[38;5;28;01mif\u001b[39;00m \u001b[38;5;129;01mnot\u001b[39;00m \u001b[38;5;28misinstance\u001b[39m(value, Series):\n\u001b[32m   5249\u001b[39m         value = Series(value)\n\u001b[32m-> \u001b[39m\u001b[32m5250\u001b[39m     \u001b[38;5;28;01mreturn\u001b[39;00m _reindex_for_setitem(value, \u001b[38;5;28mself\u001b[39m.index)\n\u001b[32m   5252\u001b[39m \u001b[38;5;28;01mif\u001b[39;00m is_list_like(value):\n\u001b[32m   5253\u001b[39m     com.require_length_match(value, \u001b[38;5;28mself\u001b[39m.index)\n",
      "\u001b[36mFile \u001b[39m\u001b[32m~/anaconda3/lib/python3.11/site-packages/pandas/core/frame.py:12679\u001b[39m, in \u001b[36m_reindex_for_setitem\u001b[39m\u001b[34m(value, index)\u001b[39m\n\u001b[32m  12675\u001b[39m \u001b[38;5;28;01mexcept\u001b[39;00m \u001b[38;5;167;01mValueError\u001b[39;00m \u001b[38;5;28;01mas\u001b[39;00m err:\n\u001b[32m  12676\u001b[39m     \u001b[38;5;66;03m# raised in MultiIndex.from_tuples, see test_insert_error_msmgs\u001b[39;00m\n\u001b[32m  12677\u001b[39m     \u001b[38;5;28;01mif\u001b[39;00m \u001b[38;5;129;01mnot\u001b[39;00m value.index.is_unique:\n\u001b[32m  12678\u001b[39m         \u001b[38;5;66;03m# duplicate axis\u001b[39;00m\n\u001b[32m> \u001b[39m\u001b[32m12679\u001b[39m         \u001b[38;5;28;01mraise\u001b[39;00m err\n\u001b[32m  12681\u001b[39m     \u001b[38;5;28;01mraise\u001b[39;00m \u001b[38;5;167;01mTypeError\u001b[39;00m(\n\u001b[32m  12682\u001b[39m         \u001b[33m\"\u001b[39m\u001b[33mincompatible index of inserted column with frame index\u001b[39m\u001b[33m\"\u001b[39m\n\u001b[32m  12683\u001b[39m     ) \u001b[38;5;28;01mfrom\u001b[39;00m \u001b[34;01merr\u001b[39;00m\n\u001b[32m  12684\u001b[39m \u001b[38;5;28;01mreturn\u001b[39;00m reindexed_value, \u001b[38;5;28;01mNone\u001b[39;00m\n",
      "\u001b[36mFile \u001b[39m\u001b[32m~/anaconda3/lib/python3.11/site-packages/pandas/core/frame.py:12674\u001b[39m, in \u001b[36m_reindex_for_setitem\u001b[39m\u001b[34m(value, index)\u001b[39m\n\u001b[32m  12672\u001b[39m \u001b[38;5;66;03m# GH#4107\u001b[39;00m\n\u001b[32m  12673\u001b[39m \u001b[38;5;28;01mtry\u001b[39;00m:\n\u001b[32m> \u001b[39m\u001b[32m12674\u001b[39m     reindexed_value = value.reindex(index)._values\n\u001b[32m  12675\u001b[39m \u001b[38;5;28;01mexcept\u001b[39;00m \u001b[38;5;167;01mValueError\u001b[39;00m \u001b[38;5;28;01mas\u001b[39;00m err:\n\u001b[32m  12676\u001b[39m     \u001b[38;5;66;03m# raised in MultiIndex.from_tuples, see test_insert_error_msmgs\u001b[39;00m\n\u001b[32m  12677\u001b[39m     \u001b[38;5;28;01mif\u001b[39;00m \u001b[38;5;129;01mnot\u001b[39;00m value.index.is_unique:\n\u001b[32m  12678\u001b[39m         \u001b[38;5;66;03m# duplicate axis\u001b[39;00m\n",
      "\u001b[36mFile \u001b[39m\u001b[32m~/anaconda3/lib/python3.11/site-packages/pandas/core/series.py:5144\u001b[39m, in \u001b[36mSeries.reindex\u001b[39m\u001b[34m(self, index, axis, method, copy, level, fill_value, limit, tolerance)\u001b[39m\n\u001b[32m   5127\u001b[39m \u001b[38;5;129m@doc\u001b[39m(\n\u001b[32m   5128\u001b[39m     NDFrame.reindex,  \u001b[38;5;66;03m# type: ignore[has-type]\u001b[39;00m\n\u001b[32m   5129\u001b[39m     klass=_shared_doc_kwargs[\u001b[33m\"\u001b[39m\u001b[33mklass\u001b[39m\u001b[33m\"\u001b[39m],\n\u001b[32m   (...)\u001b[39m\u001b[32m   5142\u001b[39m     tolerance=\u001b[38;5;28;01mNone\u001b[39;00m,\n\u001b[32m   5143\u001b[39m ) -> Series:\n\u001b[32m-> \u001b[39m\u001b[32m5144\u001b[39m     \u001b[38;5;28;01mreturn\u001b[39;00m \u001b[38;5;28msuper\u001b[39m().reindex(\n\u001b[32m   5145\u001b[39m         index=index,\n\u001b[32m   5146\u001b[39m         method=method,\n\u001b[32m   5147\u001b[39m         copy=copy,\n\u001b[32m   5148\u001b[39m         level=level,\n\u001b[32m   5149\u001b[39m         fill_value=fill_value,\n\u001b[32m   5150\u001b[39m         limit=limit,\n\u001b[32m   5151\u001b[39m         tolerance=tolerance,\n\u001b[32m   5152\u001b[39m     )\n",
      "\u001b[36mFile \u001b[39m\u001b[32m~/anaconda3/lib/python3.11/site-packages/pandas/core/generic.py:5607\u001b[39m, in \u001b[36mNDFrame.reindex\u001b[39m\u001b[34m(self, labels, index, columns, axis, method, copy, level, fill_value, limit, tolerance)\u001b[39m\n\u001b[32m   5604\u001b[39m     \u001b[38;5;28;01mreturn\u001b[39;00m \u001b[38;5;28mself\u001b[39m._reindex_multi(axes, copy, fill_value)\n\u001b[32m   5606\u001b[39m \u001b[38;5;66;03m# perform the reindex on the axes\u001b[39;00m\n\u001b[32m-> \u001b[39m\u001b[32m5607\u001b[39m \u001b[38;5;28;01mreturn\u001b[39;00m \u001b[38;5;28mself\u001b[39m._reindex_axes(\n\u001b[32m   5608\u001b[39m     axes, level, limit, tolerance, method, fill_value, copy\n\u001b[32m   5609\u001b[39m ).__finalize__(\u001b[38;5;28mself\u001b[39m, method=\u001b[33m\"\u001b[39m\u001b[33mreindex\u001b[39m\u001b[33m\"\u001b[39m)\n",
      "\u001b[36mFile \u001b[39m\u001b[32m~/anaconda3/lib/python3.11/site-packages/pandas/core/generic.py:5630\u001b[39m, in \u001b[36mNDFrame._reindex_axes\u001b[39m\u001b[34m(self, axes, level, limit, tolerance, method, fill_value, copy)\u001b[39m\n\u001b[32m   5627\u001b[39m     \u001b[38;5;28;01mcontinue\u001b[39;00m\n\u001b[32m   5629\u001b[39m ax = \u001b[38;5;28mself\u001b[39m._get_axis(a)\n\u001b[32m-> \u001b[39m\u001b[32m5630\u001b[39m new_index, indexer = ax.reindex(\n\u001b[32m   5631\u001b[39m     labels, level=level, limit=limit, tolerance=tolerance, method=method\n\u001b[32m   5632\u001b[39m )\n\u001b[32m   5634\u001b[39m axis = \u001b[38;5;28mself\u001b[39m._get_axis_number(a)\n\u001b[32m   5635\u001b[39m obj = obj._reindex_with_indexers(\n\u001b[32m   5636\u001b[39m     {axis: [new_index, indexer]},\n\u001b[32m   5637\u001b[39m     fill_value=fill_value,\n\u001b[32m   5638\u001b[39m     copy=copy,\n\u001b[32m   5639\u001b[39m     allow_dups=\u001b[38;5;28;01mFalse\u001b[39;00m,\n\u001b[32m   5640\u001b[39m )\n",
      "\u001b[36mFile \u001b[39m\u001b[32m~/anaconda3/lib/python3.11/site-packages/pandas/core/indexes/base.py:4429\u001b[39m, in \u001b[36mIndex.reindex\u001b[39m\u001b[34m(self, target, method, level, limit, tolerance)\u001b[39m\n\u001b[32m   4426\u001b[39m     \u001b[38;5;28;01mraise\u001b[39;00m \u001b[38;5;167;01mValueError\u001b[39;00m(\u001b[33m\"\u001b[39m\u001b[33mcannot handle a non-unique multi-index!\u001b[39m\u001b[33m\"\u001b[39m)\n\u001b[32m   4427\u001b[39m \u001b[38;5;28;01melif\u001b[39;00m \u001b[38;5;129;01mnot\u001b[39;00m \u001b[38;5;28mself\u001b[39m.is_unique:\n\u001b[32m   4428\u001b[39m     \u001b[38;5;66;03m# GH#42568\u001b[39;00m\n\u001b[32m-> \u001b[39m\u001b[32m4429\u001b[39m     \u001b[38;5;28;01mraise\u001b[39;00m \u001b[38;5;167;01mValueError\u001b[39;00m(\u001b[33m\"\u001b[39m\u001b[33mcannot reindex on an axis with duplicate labels\u001b[39m\u001b[33m\"\u001b[39m)\n\u001b[32m   4430\u001b[39m \u001b[38;5;28;01melse\u001b[39;00m:\n\u001b[32m   4431\u001b[39m     indexer, _ = \u001b[38;5;28mself\u001b[39m.get_indexer_non_unique(target)\n",
      "\u001b[31mValueError\u001b[39m: cannot reindex on an axis with duplicate labels"
     ]
    }
   ],
   "source": [
    "df_es_base.ts_evento = (df_es_base[(df_es_base.ts_evento > '2025-02-11 12:00:00') & (df_es_base.ts_evento < '2025-02-11 14:00:00')].ts_evento + datetime.timedelta(hours=2))\n"
   ]
  },
  {
   "cell_type": "code",
   "execution_count": 267,
   "id": "74fa0ea7-8f46-4ad8-8ab2-9ccb04361ebe",
   "metadata": {},
   "outputs": [
    {
     "data": {
      "text/plain": [
       "id_sessao\n",
       "44973   2025-02-11 14:25:26.425633\n",
       "44973   2025-02-11 14:26:31.052557\n",
       "44973   2025-02-11 14:26:41.052557\n",
       "44973   2025-02-11 14:27:27.882632\n",
       "44973   2025-02-11 14:27:37.882632\n",
       "                   ...            \n",
       "49946   2025-02-11 15:04:45.444752\n",
       "49946   2025-02-11 15:04:55.444752\n",
       "49946   2025-02-11 15:05:49.309080\n",
       "49946   2025-02-11 15:05:59.309080\n",
       "49946   2025-02-11 15:06:45.794174\n",
       "Name: ts_evento, Length: 23694, dtype: datetime64[ns]"
      ]
     },
     "execution_count": 267,
     "metadata": {},
     "output_type": "execute_result"
    }
   ],
   "source": [
    "df_es_base"
   ]
  },
  {
   "cell_type": "code",
   "execution_count": 255,
   "id": "6f545571-fed6-4d4a-a275-b44418343172",
   "metadata": {},
   "outputs": [],
   "source": [
    "df_crise_a = df_es_base.loc[:, '2025-02-11 12:00:00':'2025-02-11 14:00:00',:].copy()\n",
    "# df_es_base.loc[:, '2025-02-11 12:00:00':'2025-02-11 14:00:00',:]"
   ]
  },
  {
   "cell_type": "code",
   "execution_count": null,
   "id": "7c80933f-444c-4da4-a4cc-9790613ac074",
   "metadata": {},
   "outputs": [],
   "source": []
  },
  {
   "cell_type": "code",
   "execution_count": 212,
   "id": "ede411c0-5d8d-474d-bd14-83a906de01c2",
   "metadata": {},
   "outputs": [
    {
     "name": "stderr",
     "output_type": "stream",
     "text": [
      "/tmp/ipykernel_9959/4096812832.py:1: FutureWarning: Setting an item of incompatible dtype is deprecated and will raise an error in a future version of pandas. Value '[2352.5 2329.  2273.5 2263.  2217.  1126.5 1116.5 1091.   420.5  400.5\n",
      "  398.5  391.5  378. ]' has dtype incompatible with int64, please explicitly cast to a compatible dtype first.\n",
      "  df.loc['2025-02-11 14:30:00'] = df.loc['2025-02-11 14:30:00'].values + (df_crise_a.groupby(level=[1]).sum().astype('float64')*0.5).values\n"
     ]
    }
   ],
   "source": [
    "df.loc['2025-02-11 14:30:00'] = df.loc['2025-02-11 14:30:00'].values + (df_crise_a.groupby(level=[1]).sum().astype('float64')*0.5).values"
   ]
  },
  {
   "cell_type": "code",
   "execution_count": 213,
   "id": "a6692109-f1e8-4ef7-b64d-1a56e495939c",
   "metadata": {},
   "outputs": [
    {
     "data": {
      "text/html": [
       "<div>\n",
       "<style scoped>\n",
       "    .dataframe tbody tr th:only-of-type {\n",
       "        vertical-align: middle;\n",
       "    }\n",
       "\n",
       "    .dataframe tbody tr th {\n",
       "        vertical-align: top;\n",
       "    }\n",
       "\n",
       "    .dataframe thead th {\n",
       "        text-align: right;\n",
       "    }\n",
       "</style>\n",
       "<table border=\"1\" class=\"dataframe\">\n",
       "  <thead>\n",
       "    <tr style=\"text-align: right;\">\n",
       "      <th></th>\n",
       "      <th>ctg</th>\n",
       "    </tr>\n",
       "    <tr>\n",
       "      <th>nivel</th>\n",
       "      <th></th>\n",
       "    </tr>\n",
       "  </thead>\n",
       "  <tbody>\n",
       "    <tr>\n",
       "      <th>1</th>\n",
       "      <td>2352.5</td>\n",
       "    </tr>\n",
       "    <tr>\n",
       "      <th>2</th>\n",
       "      <td>2329.0</td>\n",
       "    </tr>\n",
       "    <tr>\n",
       "      <th>3</th>\n",
       "      <td>2273.5</td>\n",
       "    </tr>\n",
       "    <tr>\n",
       "      <th>4</th>\n",
       "      <td>2263.0</td>\n",
       "    </tr>\n",
       "    <tr>\n",
       "      <th>5</th>\n",
       "      <td>2217.0</td>\n",
       "    </tr>\n",
       "    <tr>\n",
       "      <th>6</th>\n",
       "      <td>1126.5</td>\n",
       "    </tr>\n",
       "    <tr>\n",
       "      <th>7</th>\n",
       "      <td>1116.5</td>\n",
       "    </tr>\n",
       "    <tr>\n",
       "      <th>8</th>\n",
       "      <td>1091.0</td>\n",
       "    </tr>\n",
       "    <tr>\n",
       "      <th>9</th>\n",
       "      <td>420.5</td>\n",
       "    </tr>\n",
       "    <tr>\n",
       "      <th>10</th>\n",
       "      <td>400.5</td>\n",
       "    </tr>\n",
       "    <tr>\n",
       "      <th>11</th>\n",
       "      <td>398.5</td>\n",
       "    </tr>\n",
       "    <tr>\n",
       "      <th>12</th>\n",
       "      <td>391.5</td>\n",
       "    </tr>\n",
       "    <tr>\n",
       "      <th>13</th>\n",
       "      <td>378.0</td>\n",
       "    </tr>\n",
       "  </tbody>\n",
       "</table>\n",
       "</div>"
      ],
      "text/plain": [
       "          ctg\n",
       "nivel        \n",
       "1      2352.5\n",
       "2      2329.0\n",
       "3      2273.5\n",
       "4      2263.0\n",
       "5      2217.0\n",
       "6      1126.5\n",
       "7      1116.5\n",
       "8      1091.0\n",
       "9       420.5\n",
       "10      400.5\n",
       "11      398.5\n",
       "12      391.5\n",
       "13      378.0"
      ]
     },
     "execution_count": 213,
     "metadata": {},
     "output_type": "execute_result"
    }
   ],
   "source": [
    "df.loc['2025-02-11 14:30:00']"
   ]
  },
  {
   "cell_type": "code",
   "execution_count": 214,
   "id": "06ca90fc-7712-41fc-b457-7d79c67472a0",
   "metadata": {},
   "outputs": [
    {
     "data": {
      "text/plain": [
       "[]"
      ]
     },
     "execution_count": 214,
     "metadata": {},
     "output_type": "execute_result"
    },
    {
     "data": {
      "image/png": "[encoded data removed]",
      "text/plain": [
       "<Figure size 640x480 with 1 Axes>"
      ]
     },
     "metadata": {},
     "output_type": "display_data"
    }
   ],
   "source": [
    "fig, ax = plt.subplots()\n",
    "ax.plot(df.loc['2025-02-11',1])\n",
    "ax.plot(df.loc['2025-02-11',6])\n",
    "plt.xticks(rotation=70)\n",
    "plt.plot()"
   ]
  },
  {
   "cell_type": "markdown",
   "id": "5645ff33-f1d3-469f-b5cb-8b6c7c207a0b",
   "metadata": {
    "jp-MarkdownHeadingCollapsed": true
   },
   "source": [
    "# Gráficos"
   ]
  },
  {
   "cell_type": "code",
   "execution_count": 313,
   "id": "477a5aab-b558-45bc-b8c8-140981e8223a",
   "metadata": {},
   "outputs": [],
   "source": [
    "df2=df.groupby([\n",
    "    df['ts_criacao'].dt.floor('30min'),\n",
    "    df['so_sessao'],\n",
    "    df['trilha'],\n",
    "    df['versao_jogo']\n",
    "]).count()\n"
   ]
  },
  {
   "cell_type": "code",
   "execution_count": 332,
   "id": "ac4bea1e-fae5-4814-808f-9668d56929b1",
   "metadata": {},
   "outputs": [
    {
     "data": {
      "text/plain": [
       "<Axes: xlabel='ts_criacao'>"
      ]
     },
     "execution_count": 332,
     "metadata": {},
     "output_type": "execute_result"
    },
    {
     "data": {
      "image/png": "[encoded data removed]",
      "text/plain": [
       "<Figure size 350x262.5 with 1 Axes>"
      ]
     },
     "metadata": {},
     "output_type": "display_data"
    }
   ],
   "source": [
    "df2.loc[:,'Windows',:,:]['id_sessao'].groupby(axis=0, level=[0]).sum().plot()\n",
    "df2.loc[:,'Linux',:,:]['id_sessao'].groupby(axis=0, level=[0]).sum().plot()\n",
    "df2.loc[:,'Mac',:,:]['id_sessao'].groupby(axis=0, level=[0]).sum().plot()\n",
    "# df2.loc[:,'Windows','Medio','2.1.0']['id_sessao'].plot()\n",
    "# df2.loc[:,'Windows','Dificil','2.1.0']['id_sessao'].plot()\n",
    "# plt.legend()"
   ]
  }
 ],
 "metadata": {
  "kernelspec": {
   "display_name": "Python 3 (ipykernel)",
   "language": "python",
   "name": "python3"
  },
  "language_info": {
   "codemirror_mode": {
    "name": "ipython",
    "version": 3
   },
   "file_extension": ".py",
   "mimetype": "text/x-python",
   "name": "python",
   "nbconvert_exporter": "python",
   "pygments_lexer": "ipython3",
   "version": "3.11.7"
  }
 },
 "nbformat": 4,
 "nbformat_minor": 5
}
