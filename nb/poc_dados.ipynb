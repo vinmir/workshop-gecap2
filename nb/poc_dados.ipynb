{
 "cells": [
  {
   "cell_type": "code",
   "execution_count": 3,
   "id": "383ef125-cb6c-4e4a-876b-34b53de77e44",
   "metadata": {},
   "outputs": [],
   "source": [
    "import matplotlib.pyplot as plt\n",
    "import scienceplots\n",
    "\n",
    "\n",
    "import numpy as np\n",
    "import scipy.stats\n",
    "import pandas as pd\n",
    "\n",
    "import datetime\n",
    "\n",
    "import sqlalchemy as sqla\n",
    "from sqlalchemy.orm import close_all_sessions\n",
    "\n",
    "from pathlib import Path"
   ]
  },
  {
   "cell_type": "code",
   "execution_count": 4,
   "id": "a1252241-7bd8-466c-89fc-5827b300f726",
   "metadata": {},
   "outputs": [],
   "source": [
    "plt.style.use(['science','no-latex'])"
   ]
  },
  {
   "cell_type": "code",
   "execution_count": 107,
   "id": "81f079e0-edc6-4549-bf4b-fc395900d871",
   "metadata": {},
   "outputs": [],
   "source": [
    "dtypes={'trilha': 'object', 'nivel': np.int32, \n",
    "           'prob_conclusao': np.float64, 'prob_continuar':np.float64}\n",
    "df_prob = pd.DataFrame(np.array([\n",
    "    ['Facil', 1, 0.97, 0.99],\n",
    "    ['Facil', 2, 0.97, 0.99],\n",
    "    ['Facil', 3, 0.97, 0.99],\n",
    "    ['Facil', 4, 0.97, 0.99],\n",
    "    ['Facil', 5, 0.97, 0.99],\n",
    "    ['Medio', 1, 0.97, 0.99],\n",
    "    ['Medio', 2, 0.97, 0.99],\n",
    "    ['Medio', 3, 0.97, 0.99],\n",
    "    ['Medio', 4, 0.97, 0.99],\n",
    "    ['Medio', 5, 0.97, 0.99],\n",
    "    ['Medio', 6, 0.91, 0.99],\n",
    "    ['Medio', 7, 0.91, 0.99],\n",
    "    ['Medio', 8, 0.91, 0.99],\n",
    "    ['Dificil', 1, 0.97, 0.99],\n",
    "    ['Dificil', 2, 0.97, 0.99],\n",
    "    ['Dificil', 3, 0.97, 0.99],\n",
    "    ['Dificil', 4, 0.97, 0.99],\n",
    "    ['Dificil', 5, 0.97, 0.99],\n",
    "    ['Dificil', 6, 0.91, 0.99],\n",
    "    ['Dificil', 7, 0.91, 0.99],\n",
    "    ['Dificil', 8, 0.91, 0.99], \n",
    "    ['Dificil', 9, 0.87, 0.99], \n",
    "    ['Dificil', 10, 0.87, 0.99], \n",
    "    ['Dificil', 11, 0.87, 0.99], \n",
    "    ['Dificil', 12, 0.87, 0.99], \n",
    "    ['Dificil', 13, 0.87, 0.99]\n",
    "]), columns=['trilha','nivel','prob_conclusao','prob_continuar'])\n",
    "df_prob = df_prob.astype(dtype=dtypes).set_index(['trilha','nivel'])\n",
    "\n"
   ]
  },
  {
   "cell_type": "code",
   "execution_count": 73,
   "id": "5c228939-7e0b-4bf2-a191-aa1a3b5d64a2",
   "metadata": {},
   "outputs": [],
   "source": [
    "def limpa_arquivo(arquivo):\n",
    "    if arquivo.exists(): arquivo.unlink()\n",
    "\n",
    "def salva_arquivos(dia, header, arquivo_sessao, arquivo_eventos):\n",
    "    # Gera dados de sessao_jogador\n",
    "    arr=[]\n",
    "    for i in range(ids_sessoes.size):\n",
    "        id_sessao = ids_sessoes[i]\n",
    "        id_jogador = ids_jogadores_sessoes[i]\n",
    "        so_sessao = so_sessoes[i]\n",
    "        trilha = trilhas[i]\n",
    "        versao_jogo = versoes[i]\n",
    "        ts_criacao = dia + datetime.timedelta(seconds=horarios[i])\n",
    "        arr.append([id_sessao, id_jogador, so_sessao, trilha, ts_criacao, versao_jogo])\n",
    "    \n",
    "    df_sessoes = pd.DataFrame(arr, columns=['id_sessao','id_jogador','so_sessao','trilha','ts_criacao','versao_jogo'])\n",
    "    df_sessoes.to_csv(path_or_buf=arquivo_sessao, header=header, index=False, mode='a')\n",
    "    \n",
    "    # Gera dados de eventos para cada sessao\n",
    "    arr = []\n",
    "    dist_tempo_nivel = scipy.stats.norm(loc=60,scale=10)\n",
    "    for index, row in df_sessoes.reset_index().iterrows():\n",
    "        # if index > 2: break\n",
    "        id_sessao = row['id_sessao']\n",
    "        trilha = row['trilha']\n",
    "        ts_evento = row['ts_criacao']\n",
    "        for nivel, (p_concluir, p_continuar) in df_prob.loc[trilha,:].iterrows():\n",
    "            # print(id_sessao, trilha, nivel, ts_evento, 'I')\n",
    "            arr.append([id_sessao, ts_evento, nivel, 'I'])\n",
    "            if np.random.random_sample() < p_concluir:\n",
    "                ts_evento += + datetime.timedelta(seconds=dist_tempo_nivel.rvs())\n",
    "                # print(id_sessao, trilha, nivel, ts_evento, 'F')\n",
    "                arr.append([id_sessao, ts_evento, nivel, 'F'])\n",
    "            if np.random.random_sample() < (1-p_continuar):\n",
    "                break\n",
    "            ts_evento += + datetime.timedelta(seconds=10)\n",
    "    \n",
    "    df_eventos = pd.DataFrame(arr, columns=['id_sessao','ts_evento','nivel','indicador'])\n",
    "    df_eventos.to_csv(arquivo_eventos, mode='a', index=False, header=header)\n",
    "    "
   ]
  },
  {
   "cell_type": "code",
   "execution_count": 117,
   "id": "2f1d615f-3073-4b19-bda1-d07ab515c44e",
   "metadata": {},
   "outputs": [],
   "source": [
    "dist_max_sess_dia_util = scipy.stats.norm(5000, 100)\n",
    "dist_max_sess_fim_semana = scipy.stats.norm(8000, 500)\n",
    "dist_inicio_sessao = scipy.stats.norm(43200,14400)\n",
    "dist_tempo_nivel = scipy.stats.norm(loc=60,scale=10)\n",
    "ids_jogadores = np.arange(1,40000+1,dtype=int)\n",
    "\n",
    "lista_dias = pd.date_range('2025-02-03', '2025-03-09', freq='1D')\n",
    "\n",
    "def cria_sessoes(dia: pd.Timestamp, id_sessao_anterior, arquivo_sessao, arquivo_eventos, header):\n",
    "    # Gera dados de sessao_jogador\n",
    "    if dia.weekday() in (5,6):\n",
    "        #Fim de semana. Crie mais sessões\n",
    "        max_sessoes_criadas = np.int32(dist_max_sess_fim_semana.rvs())\n",
    "    else:\n",
    "        #Dia de semana. Crie menos sessões\n",
    "        max_sessoes_criadas = np.int32(dist_max_sess_dia_util.rvs())\n",
    "\n",
    "    file_sessoes = arquivo_sessao.open(mode='a')\n",
    "    file_eventos = arquivo_eventos.open(mode='a')\n",
    "    \n",
    "    if header==True:\n",
    "        file_sessoes.write(\"id_sessao,id_jogador,so_sessao,trilha,ts_criacao,versao_jogo\\n\")\n",
    "        file_eventos.write(\"id_sessao,ts_evento,nivel,indicador_conclusao\\n\")\n",
    "    \n",
    "    for id_sessao in range(id_sessao_anterior+1, id_sessao_anterior+1+max_sessoes_criadas):\n",
    "        \n",
    "        id_jogador = np.random.choice(ids_jogadores)\n",
    "        so_sessao = np.random.choice(['Windows', 'Mac', 'Linux'], p=[0.7, .25, .05])\n",
    "        trilha = np.random.choice(['Facil', 'Medio', 'Dificil'], p=[0.5, .3, .2])\n",
    "        versao_jogo = np.random.choice(['1.5.3', '2.1.9'], p=[0.9, .1])\n",
    "        ts_criacao = dia + datetime.timedelta(seconds=dist_inicio_sessao.rvs())\n",
    "\n",
    "        file_sessoes.write(f\"{id_sessao},{id_jogador},{so_sessao},{trilha},{ts_criacao},{versao_jogo}\\n\")\n",
    "        \n",
    "        cria_eventos(id_sessao, ts_criacao, trilha, file_eventos)\n",
    "        \n",
    "    return id_sessao_anterior+max_sessoes_criadas\n",
    "\n",
    "def cria_eventos(id_sessao, ts_criacao, trilha, file_eventos):\n",
    "    ts_evento = ts_criacao\n",
    "    for nivel, (p_concluir, p_continuar) in df_prob.loc[trilha,:].iterrows():\n",
    "        file_eventos.write(f\"{id_sessao},{ts_evento},{nivel},I\\n\")\n",
    "        if np.random.random_sample() < p_concluir:\n",
    "            ts_evento += + datetime.timedelta(seconds=dist_tempo_nivel.rvs())\n",
    "            file_eventos.write(f\"{id_sessao},{ts_evento},{nivel},F\\n\")\n",
    "        else:\n",
    "            break\n",
    "            \n",
    "        if np.random.random_sample() < (1-p_continuar):\n",
    "            break\n",
    "        ts_evento += + datetime.timedelta(seconds=10)    \n"
   ]
  },
  {
   "cell_type": "code",
   "execution_count": 166,
   "id": "900a47f0-e0a8-46b0-ad74-2b4ec35fb3a9",
   "metadata": {},
   "outputs": [
    {
     "name": "stdout",
     "output_type": "stream",
     "text": [
      "True 2025-02-03 00:00:00 4933\n",
      "False 2025-02-04 00:00:00 9891\n",
      "False 2025-02-05 00:00:00 15014\n",
      "False 2025-02-06 00:00:00 19992\n",
      "False 2025-02-07 00:00:00 24895\n",
      "False 2025-02-08 00:00:00 33067\n",
      "False 2025-02-09 00:00:00 41912\n",
      "False 2025-02-10 00:00:00 46933\n",
      "False 2025-02-11 00:00:00 52116\n",
      "False 2025-02-12 00:00:00 57147\n",
      "False 2025-02-13 00:00:00 62094\n",
      "False 2025-02-14 00:00:00 67100\n",
      "False 2025-02-15 00:00:00 74801\n",
      "False 2025-02-16 00:00:00 82545\n",
      "False 2025-02-17 00:00:00 87477\n",
      "False 2025-02-18 00:00:00 92469\n",
      "False 2025-02-19 00:00:00 97291\n",
      "False 2025-02-20 00:00:00 102389\n",
      "False 2025-02-21 00:00:00 107372\n",
      "False 2025-02-22 00:00:00 115684\n",
      "False 2025-02-23 00:00:00 123492\n",
      "False 2025-02-24 00:00:00 128607\n",
      "False 2025-02-25 00:00:00 133572\n",
      "False 2025-02-26 00:00:00 138342\n",
      "False 2025-02-27 00:00:00 143334\n",
      "False 2025-02-28 00:00:00 148369\n",
      "False 2025-03-01 00:00:00 156734\n",
      "False 2025-03-02 00:00:00 164425\n",
      "False 2025-03-03 00:00:00 169535\n",
      "False 2025-03-04 00:00:00 174469\n",
      "False 2025-03-05 00:00:00 179536\n",
      "False 2025-03-06 00:00:00 184408\n",
      "False 2025-03-07 00:00:00 189423\n",
      "False 2025-03-08 00:00:00 197222\n",
      "False 2025-03-09 00:00:00 204857\n",
      "CPU times: user 7min 41s, sys: 2.05 s, total: 7min 43s\n",
      "Wall time: 7min 54s\n"
     ]
    }
   ],
   "source": [
    "%%time\n",
    "\n",
    "arquivo_sessao=Path(\"../data/sessao_jogador.csv\")\n",
    "arquivo_eventos=Path(\"../data/eventos_sessao.csv\")\n",
    "if arquivo_sessao.exists(): arquivo_sessao.unlink()\n",
    "if arquivo_eventos.exists(): arquivo_eventos.unlink()\n",
    "\n",
    "for i, dia in enumerate(lista_dias):\n",
    "    # print(i, dia)\n",
    "    if i==0:\n",
    "        header = True\n",
    "        ultima_id_sessao = 0\n",
    "    else:\n",
    "        header = False\n",
    "    ultima_id_sessao = cria_sessoes(dia, ultima_id_sessao, arquivo_sessao, arquivo_eventos, header)\n",
    "    print(header, dia, ultima_id_sessao)\n",
    "\n",
    "# ultima_id_sessao = cria_sessoes(dia1, 0, arquivo_sessao, arquivo_eventos, header=True)\n",
    "# cria_sessoes(dia2,ultima_id_sessao,arquivo_sessao, arquivo_eventos, header=False)\n"
   ]
  },
  {
   "cell_type": "markdown",
   "id": "1133ba74-d241-42c6-a6ea-5849f2902577",
   "metadata": {},
   "source": [
    "# Testa csv"
   ]
  },
  {
   "cell_type": "code",
   "execution_count": 168,
   "id": "e726bc46-1f35-4acc-b1db-152966e195b4",
   "metadata": {},
   "outputs": [],
   "source": [
    "df_eve = pd.read_csv(\"../data/eventos_sessao.csv\").astype({'ts_evento':'datetime64[ns]'})\n",
    "df_sess = pd.read_csv(\"../data/sessao_jogador.csv\").astype({'ts_criacao':'datetime64[ns]'})"
   ]
  },
  {
   "cell_type": "code",
   "execution_count": 138,
   "id": "bd406e3f-87ee-4c03-b879-8fb46de28a2b",
   "metadata": {},
   "outputs": [
    {
     "name": "stderr",
     "output_type": "stream",
     "text": [
      "/tmp/ipykernel_18620/1458673729.py:10: FutureWarning: The previous implementation of stack is deprecated and will be removed in a future version of pandas. See the What's New notes for pandas 2.1.0 for details. Specify future_stack=True to adopt the new implementation and silence this warning.\n",
      "  df_graf = df_graf.unstack([1]).resample('30min').sum().stack([1])\n"
     ]
    }
   ],
   "source": [
    "# Eventos_sessao\n",
    "df=df_eve\n",
    "df_graf = df.groupby(\n",
    "    [\n",
    "        df.ts_evento.dt.floor('30min'),\n",
    "        'nivel'\n",
    "    ]\n",
    ").agg({'ts_evento':'count'}).rename({'ts_evento':'ctg'}, axis=1)\n",
    "# ).agg({'ts_evento': 'count'}).rename({'ts_evento':'ctg'}, axis=1)\n",
    "df_graf = df_graf.unstack([1]).resample('30min').sum().stack([1])"
   ]
  },
  {
   "cell_type": "code",
   "execution_count": 160,
   "id": "ac055915-b5ca-42c2-bf64-f43beceff904",
   "metadata": {},
   "outputs": [
    {
     "name": "stderr",
     "output_type": "stream",
     "text": [
      "/tmp/ipykernel_18620/3713568106.py:12: FutureWarning: The previous implementation of stack is deprecated and will be removed in a future version of pandas. See the What's New notes for pandas 2.1.0 for details. Specify future_stack=True to adopt the new implementation and silence this warning.\n",
      "  df_graf = df_graf.unstack([1,2,3]).resample('30min').sum().stack([1,2,3])\n"
     ]
    }
   ],
   "source": [
    "# Sessao_jogador\n",
    "df=df_sess\n",
    "df_graf = df.groupby(\n",
    "    [\n",
    "        df.ts_criacao.dt.floor('30min'),\n",
    "        'so_sessao',\n",
    "        'versao_jogo',\n",
    "        'trilha'\n",
    "    ]\n",
    ").agg({'ts_criacao':'count'}).rename({'ts_criacao':'ctg'}, axis=1)\n",
    "# ).agg({'ts_evento': 'count'}).rename({'ts_evento':'ctg'}, axis=1)\n",
    "df_graf = df_graf.unstack([1,2,3]).resample('30min').sum().stack([1,2,3])"
   ]
  },
  {
   "cell_type": "code",
   "execution_count": 139,
   "id": "db227e86-0684-42f9-a7f7-02e581932154",
   "metadata": {},
   "outputs": [
    {
     "data": {
      "image/png": "[encoded data removed]",
      "text/plain": [
       "<Figure size 350x262.5 with 1 Axes>"
      ]
     },
     "metadata": {},
     "output_type": "display_data"
    }
   ],
   "source": [
    "fig,ax = plt.subplots()\n",
    "\n",
    "ax.plot(df_graf.loc[:,1,:],label=1)\n",
    "ax.plot(df_graf.loc[:,2,:],label=2)\n",
    "ax.plot(df_graf.loc[:,3,:],label=3)\n",
    "ax.plot(df_graf.loc[:,4,:],label=4)\n",
    "ax.plot(df_graf.loc[:,5,:],label=5)\n",
    "ax.plot(df_graf.loc[:,6,:],label=6)\n",
    "ax.plot(df_graf.loc[:,7,:],label=7)\n",
    "ax.plot(df_graf.loc[:,8,:],label=8)\n",
    "ax.plot(df_graf.loc[:,9,:],label=9)\n",
    "ax.plot(df_graf.loc[:,10,:],label=10)\n",
    "ax.plot(df_graf.loc[:,11,:],label=11)\n",
    "ax.plot(df_graf.loc[:,12,:],label=12)\n",
    "ax.plot(df_graf.loc[:,13,:],label=13)\n",
    "# ax.plot(df_graf.loc[:,14,:],label=14)\n",
    "# ax.plot(df_graf.loc[:,15,:],label=15)\n",
    "\n",
    "ax.legend()\n",
    "\n",
    "plt.xticks(rotation=70)\n",
    "plt.show()"
   ]
  },
  {
   "cell_type": "markdown",
   "id": "6335c468-a38f-4120-af9d-4519416435c6",
   "metadata": {},
   "source": [
    "# Crise"
   ]
  },
  {
   "cell_type": "code",
   "execution_count": 234,
   "id": "7be67ce0-b8a6-4d33-a3e2-1c5f21ffbb48",
   "metadata": {},
   "outputs": [],
   "source": [
    "df_eve = pd.read_csv(\"../data/eventos_sessao.csv\").astype({'ts_evento':'datetime64[ns]'})\n",
    "df_sess = pd.read_csv(\"../data/sessao_jogador.csv\").astype({'ts_criacao':'datetime64[ns]'})"
   ]
  },
  {
   "cell_type": "code",
   "execution_count": 235,
   "id": "47e8523f-c659-4c41-a322-cf4ddf962694",
   "metadata": {},
   "outputs": [],
   "source": [
    "df_merged = df_sess.merge(df_eve, on='id_sessao')\n",
    "df= df_merged"
   ]
  },
  {
   "cell_type": "code",
   "execution_count": 236,
   "id": "80d7be5f-8afc-4f14-a07a-14c2e621b57d",
   "metadata": {},
   "outputs": [],
   "source": [
    "# Instaura crise 1:\n",
    "t0 = datetime.datetime.fromisoformat('2025-03-04 10:15:00')\n",
    "t1 = datetime.datetime.fromisoformat('2025-03-04 12:42:00')\n",
    "\n",
    "query=\"@t0<ts_criacao<@t1\"\n",
    "df.loc[df.query(query).index, ['ts_evento', 'ts_criacao']] += (t1-t0)\n",
    "# df.query(query)\n"
   ]
  },
  {
   "cell_type": "code",
   "execution_count": 237,
   "id": "ed2e1a5b-cd2a-4a1c-9394-f88218d7b635",
   "metadata": {},
   "outputs": [],
   "source": [
    "# Instaura crise 2:\n",
    "t0 = datetime.datetime.fromisoformat('2025-03-08 13:00:00')\n",
    "t1 = datetime.datetime.fromisoformat('2025-03-08 15:00:00')\n",
    "\n",
    "query=\"@t0<ts_criacao<@t1 and so_sessao in ('Windows') and versao_jogo=='2.1.9'\"\n",
    "df.loc[df.query(query).index, ['ts_evento', 'ts_criacao']] += (t1-t0)\n",
    "# df.query(query)\n"
   ]
  },
  {
   "cell_type": "code",
   "execution_count": 238,
   "id": "929e5997-1bc3-49d9-8ca7-44779237dbaf",
   "metadata": {},
   "outputs": [],
   "source": [
    "# Instaura crise 3:\n",
    "t0 = datetime.datetime.fromisoformat('2025-03-06 16:00:00')\n",
    "t1 = datetime.datetime.fromisoformat('2025-03-06 23:00:00')\n",
    "\n",
    "query=\"@t0<ts_criacao<@t1 and so_sessao in ('Mac', 'Linux') and trilha in ('Medio', 'Dificil')\"\n",
    "df.drop(df.loc[df.query(query).index].index, inplace=True)\n",
    "# df.query(query)\n"
   ]
  },
  {
   "cell_type": "markdown",
   "id": "4c4659bf-92b6-4514-a176-447f64d3ccce",
   "metadata": {},
   "source": [
    "## Verifica crises"
   ]
  },
  {
   "cell_type": "code",
   "execution_count": 201,
   "id": "502ed866-1e7b-4648-b626-11bfb494a2fa",
   "metadata": {},
   "outputs": [
    {
     "data": {
      "text/plain": [
       "id_sessao                       int64\n",
       "id_jogador                      int64\n",
       "so_sessao                      object\n",
       "trilha                         object\n",
       "ts_criacao             datetime64[ns]\n",
       "versao_jogo                    object\n",
       "ts_evento              datetime64[ns]\n",
       "nivel                           int64\n",
       "indicador_conclusao            object\n",
       "dtype: object"
      ]
     },
     "execution_count": 201,
     "metadata": {},
     "output_type": "execute_result"
    }
   ],
   "source": [
    "df.dtypes"
   ]
  },
  {
   "cell_type": "code",
   "execution_count": 239,
   "id": "f374a6c7-8a47-41e2-9a7f-a1c170d2c45d",
   "metadata": {},
   "outputs": [],
   "source": [
    "df_graf = df.groupby(\n",
    "    [\n",
    "        df.ts_evento.dt.floor(\"10min\")\n",
    "        , 'so_sessao'\n",
    "        , 'versao_jogo'\n",
    "        , 'trilha'\n",
    "        , 'nivel'\n",
    "    ]\n",
    ").agg({'ts_evento':'count'}).rename({'ts_evento':'ctg'}, axis=1)"
   ]
  },
  {
   "cell_type": "code",
   "execution_count": 240,
   "id": "89f8a86c-00cf-4c1d-bbfc-b581528cd654",
   "metadata": {},
   "outputs": [],
   "source": [
    "df_graf = df_graf.unstack([1,2,3,4]).resample('10min').sum().stack([1,2,3,4], future_stack=True)"
   ]
  },
  {
   "cell_type": "code",
   "execution_count": 241,
   "id": "906fed1e-8e0b-4c2d-8ed4-0eb4fd9fbc63",
   "metadata": {},
   "outputs": [
    {
     "data": {
      "text/html": [
       "<div>\n",
       "<style scoped>\n",
       "    .dataframe tbody tr th:only-of-type {\n",
       "        vertical-align: middle;\n",
       "    }\n",
       "\n",
       "    .dataframe tbody tr th {\n",
       "        vertical-align: top;\n",
       "    }\n",
       "\n",
       "    .dataframe thead th {\n",
       "        text-align: right;\n",
       "    }\n",
       "</style>\n",
       "<table border=\"1\" class=\"dataframe\">\n",
       "  <thead>\n",
       "    <tr style=\"text-align: right;\">\n",
       "      <th></th>\n",
       "      <th>ctg</th>\n",
       "    </tr>\n",
       "    <tr>\n",
       "      <th>ts_evento</th>\n",
       "      <th></th>\n",
       "    </tr>\n",
       "  </thead>\n",
       "  <tbody>\n",
       "    <tr>\n",
       "      <th>2025-03-04 00:00:00</th>\n",
       "      <td>0.0</td>\n",
       "    </tr>\n",
       "    <tr>\n",
       "      <th>2025-03-04 00:10:00</th>\n",
       "      <td>2.0</td>\n",
       "    </tr>\n",
       "    <tr>\n",
       "      <th>2025-03-04 00:20:00</th>\n",
       "      <td>0.0</td>\n",
       "    </tr>\n",
       "    <tr>\n",
       "      <th>2025-03-04 00:30:00</th>\n",
       "      <td>0.0</td>\n",
       "    </tr>\n",
       "    <tr>\n",
       "      <th>2025-03-04 00:40:00</th>\n",
       "      <td>0.0</td>\n",
       "    </tr>\n",
       "    <tr>\n",
       "      <th>...</th>\n",
       "      <td>...</td>\n",
       "    </tr>\n",
       "    <tr>\n",
       "      <th>2025-03-04 23:10:00</th>\n",
       "      <td>0.0</td>\n",
       "    </tr>\n",
       "    <tr>\n",
       "      <th>2025-03-04 23:20:00</th>\n",
       "      <td>0.0</td>\n",
       "    </tr>\n",
       "    <tr>\n",
       "      <th>2025-03-04 23:30:00</th>\n",
       "      <td>2.0</td>\n",
       "    </tr>\n",
       "    <tr>\n",
       "      <th>2025-03-04 23:40:00</th>\n",
       "      <td>2.0</td>\n",
       "    </tr>\n",
       "    <tr>\n",
       "      <th>2025-03-04 23:50:00</th>\n",
       "      <td>0.0</td>\n",
       "    </tr>\n",
       "  </tbody>\n",
       "</table>\n",
       "<p>144 rows × 1 columns</p>\n",
       "</div>"
      ],
      "text/plain": [
       "                     ctg\n",
       "ts_evento               \n",
       "2025-03-04 00:00:00  0.0\n",
       "2025-03-04 00:10:00  2.0\n",
       "2025-03-04 00:20:00  0.0\n",
       "2025-03-04 00:30:00  0.0\n",
       "2025-03-04 00:40:00  0.0\n",
       "...                  ...\n",
       "2025-03-04 23:10:00  0.0\n",
       "2025-03-04 23:20:00  0.0\n",
       "2025-03-04 23:30:00  2.0\n",
       "2025-03-04 23:40:00  2.0\n",
       "2025-03-04 23:50:00  0.0\n",
       "\n",
       "[144 rows x 1 columns]"
      ]
     },
     "execution_count": 241,
     "metadata": {},
     "output_type": "execute_result"
    }
   ],
   "source": [
    "df_graf.loc['2025-03-04':'2025-03-04',:,'2.1.9',:,1].groupby(level=[0,4]).sum().droplevel(1)"
   ]
  },
  {
   "cell_type": "code",
   "execution_count": 248,
   "id": "e12607e8-9f7b-44c0-a352-e906bb441a16",
   "metadata": {},
   "outputs": [
    {
     "data": {
      "text/plain": [
       "[]"
      ]
     },
     "execution_count": 248,
     "metadata": {},
     "output_type": "execute_result"
    },
    {
     "data": {
      "image/png": "[encoded data removed]",
      "text/plain": [
       "<Figure size 350x262.5 with 1 Axes>"
      ]
     },
     "metadata": {},
     "output_type": "display_data"
    }
   ],
   "source": [
    "fig, ax = plt.subplots()\n",
    "\n",
    "# ax.plot(df_graf.loc['2025-03-04'].groupby(level=[0,4]).sum())\n",
    "ax.plot(df_graf.loc['2025-03-06':'2025-03-06','Mac',:,'Medio',1].groupby(level=[0,4]).sum().droplevel(1))\n",
    "# ax.plot(df_graf.loc['2025-03-08':'2025-03-08',:,:,:,2].groupby(level=[0,4]).sum().droplevel(1))\n",
    "# ax.plot(df_graf.loc['2025-03-08':'2025-03-08',:,:,:,3].groupby(level=[0,4]).sum().droplevel(1))\n",
    "# ax.plot(df_graf.loc['2025-03-08':'2025-03-08',:,:,:,4].groupby(level=[0,4]).sum().droplevel(1))\n",
    "# ax.plot(df_graf.loc['2025-03-08':'2025-03-08',:,:,:,5].groupby(level=[0,4]).sum().droplevel(1))\n",
    "# ax.plot(df_graf.loc['2025-03-08':'2025-03-08',:,:,:,6].groupby(level=[0,4]).sum().droplevel(1))\n",
    "\n",
    "plt.xticks(rotation=70)\n",
    "plt.plot()"
   ]
  },
  {
   "cell_type": "markdown",
   "id": "6a77eeb2-3bd5-4fad-9ea9-2cc401ec7b1f",
   "metadata": {},
   "source": [
    "## Envia sqlite"
   ]
  },
  {
   "cell_type": "code",
   "execution_count": 250,
   "id": "4507de83-9c4b-4360-ace4-ec0e3a5f4811",
   "metadata": {},
   "outputs": [],
   "source": [
    "workshop_db_engine = sqla.create_engine(\"sqlite:///../db/workshop.db\")"
   ]
  },
  {
   "cell_type": "code",
   "execution_count": 251,
   "id": "c7170cbf-d6da-47f3-ad64-a5bd236aeba1",
   "metadata": {},
   "outputs": [
    {
     "name": "stdout",
     "output_type": "stream",
     "text": [
      "CPU times: user 35 s, sys: 3.01 s, total: 38 s\n",
      "Wall time: 59.2 s\n"
     ]
    },
    {
     "data": {
      "text/plain": [
       "204739"
      ]
     },
     "execution_count": 251,
     "metadata": {},
     "output_type": "execute_result"
    }
   ],
   "source": [
    "%%time\n",
    "\n",
    "df[['id_sessao','ts_evento','nivel','indicador_conclusao']].to_sql('eventos_sessao',workshop_db_engine,index=False,if_exists='append')\n",
    "\n",
    "df[['id_sessao','id_jogador','so_sessao','trilha','ts_criacao','versao_jogo']].drop_duplicates().to_sql('sessao_jogador',workshop_db_engine,index=False,if_exists='append')\n"
   ]
  },
  {
   "cell_type": "markdown",
   "id": "477df308-7c6e-42da-abea-71a1f617b3db",
   "metadata": {},
   "source": [
    "# Carrega dfs - sqlite"
   ]
  },
  {
   "cell_type": "code",
   "execution_count": 27,
   "id": "b17c567a-cd45-4ec1-9a54-10271c1d3e65",
   "metadata": {},
   "outputs": [],
   "source": [
    "workshop_db_engine = sqla.create_engine(\"sqlite:///../db/workshop.db\")"
   ]
  },
  {
   "cell_type": "code",
   "execution_count": 28,
   "id": "c53b2b54-65ea-4bfe-8440-eaf3688bfe6e",
   "metadata": {},
   "outputs": [],
   "source": [
    "sql=\"\"\"\n",
    "WITH\n",
    "dados_jogador_evento AS (\n",
    "\tSELECT\n",
    "\t\tsj.id_sessao\n",
    "        , sj.id_jogador\n",
    "\t\t, sj.so_sessao\n",
    "\t\t, sj.trilha\n",
    "\t\t, sj.ts_criacao\n",
    "\t\t, sj.versao_jogo\n",
    "\t\t, es.ts_evento\n",
    "\t\t, es.indicador_conclusao\n",
    "\t\t, es.nivel\n",
    "\tFROM\n",
    "\t\tsessao_jogador_rev sj \n",
    "\t\tinner join eventos_sessao_rev es on es.id_sessao = sj.id_sessao\n",
    ")\n",
    "select * from dados_jogador_evento\n",
    "\"\"\""
   ]
  },
  {
   "cell_type": "code",
   "execution_count": 36,
   "id": "256e19a5-1f64-431e-b1cb-8aab033d993a",
   "metadata": {},
   "outputs": [
    {
     "name": "stdout",
     "output_type": "stream",
     "text": [
      "CPU times: user 21.5 s, sys: 1.2 s, total: 22.7 s\n",
      "Wall time: 23.6 s\n"
     ]
    }
   ],
   "source": [
    "%%time\n",
    "\n",
    "# df_sj_base = (pd.read_sql('sessao_jogador', workshop_db_engine)\n",
    "#                 .astype({'ts_criacao':'datetime64[ns]'})\n",
    "#              )\n",
    "\n",
    "df_base = (pd.read_sql(sql, workshop_db_engine)\n",
    "                .astype({'ts_evento':'datetime64[ns]', 'ts_criacao':'datetime64[ns]'})\n",
    "             )\n"
   ]
  },
  {
   "cell_type": "code",
   "execution_count": 10,
   "id": "8f0e99aa-f1c9-4f96-b777-f87fef4a2102",
   "metadata": {
    "scrolled": true
   },
   "outputs": [
    {
     "data": {
      "text/html": [
       "<div>\n",
       "<style scoped>\n",
       "    .dataframe tbody tr th:only-of-type {\n",
       "        vertical-align: middle;\n",
       "    }\n",
       "\n",
       "    .dataframe tbody tr th {\n",
       "        vertical-align: top;\n",
       "    }\n",
       "\n",
       "    .dataframe thead th {\n",
       "        text-align: right;\n",
       "    }\n",
       "</style>\n",
       "<table border=\"1\" class=\"dataframe\">\n",
       "  <thead>\n",
       "    <tr style=\"text-align: right;\">\n",
       "      <th></th>\n",
       "      <th>id_sessao</th>\n",
       "      <th>id_jogador</th>\n",
       "      <th>so_sessao</th>\n",
       "      <th>trilha</th>\n",
       "      <th>ts_criacao</th>\n",
       "      <th>versao_jogo</th>\n",
       "      <th>ts_evento</th>\n",
       "      <th>indicador_conclusao</th>\n",
       "      <th>nivel</th>\n",
       "    </tr>\n",
       "  </thead>\n",
       "  <tbody>\n",
       "    <tr>\n",
       "      <th>2582802</th>\n",
       "      <td>186434</td>\n",
       "      <td>31459</td>\n",
       "      <td>Windows</td>\n",
       "      <td>Medio</td>\n",
       "      <td>2025-03-08 11:44:59.427037</td>\n",
       "      <td>2.1.9</td>\n",
       "      <td>2025-03-08 11:44:59.427037</td>\n",
       "      <td>I</td>\n",
       "      <td>1</td>\n",
       "    </tr>\n",
       "    <tr>\n",
       "      <th>2582803</th>\n",
       "      <td>186434</td>\n",
       "      <td>31459</td>\n",
       "      <td>Windows</td>\n",
       "      <td>Medio</td>\n",
       "      <td>2025-03-08 11:44:59.427037</td>\n",
       "      <td>2.1.9</td>\n",
       "      <td>2025-03-08 11:45:52.008633</td>\n",
       "      <td>F</td>\n",
       "      <td>1</td>\n",
       "    </tr>\n",
       "    <tr>\n",
       "      <th>2582804</th>\n",
       "      <td>186434</td>\n",
       "      <td>31459</td>\n",
       "      <td>Windows</td>\n",
       "      <td>Medio</td>\n",
       "      <td>2025-03-08 11:44:59.427037</td>\n",
       "      <td>2.1.9</td>\n",
       "      <td>2025-03-08 11:46:02.008633</td>\n",
       "      <td>I</td>\n",
       "      <td>2</td>\n",
       "    </tr>\n",
       "    <tr>\n",
       "      <th>2582805</th>\n",
       "      <td>186434</td>\n",
       "      <td>31459</td>\n",
       "      <td>Windows</td>\n",
       "      <td>Medio</td>\n",
       "      <td>2025-03-08 11:44:59.427037</td>\n",
       "      <td>2.1.9</td>\n",
       "      <td>2025-03-08 11:47:10.705606</td>\n",
       "      <td>F</td>\n",
       "      <td>2</td>\n",
       "    </tr>\n",
       "    <tr>\n",
       "      <th>2582806</th>\n",
       "      <td>186434</td>\n",
       "      <td>31459</td>\n",
       "      <td>Windows</td>\n",
       "      <td>Medio</td>\n",
       "      <td>2025-03-08 11:44:59.427037</td>\n",
       "      <td>2.1.9</td>\n",
       "      <td>2025-03-08 11:47:20.705606</td>\n",
       "      <td>I</td>\n",
       "      <td>3</td>\n",
       "    </tr>\n",
       "    <tr>\n",
       "      <th>...</th>\n",
       "      <td>...</td>\n",
       "      <td>...</td>\n",
       "      <td>...</td>\n",
       "      <td>...</td>\n",
       "      <td>...</td>\n",
       "      <td>...</td>\n",
       "      <td>...</td>\n",
       "      <td>...</td>\n",
       "      <td>...</td>\n",
       "    </tr>\n",
       "    <tr>\n",
       "      <th>2694836</th>\n",
       "      <td>194571</td>\n",
       "      <td>16385</td>\n",
       "      <td>Windows</td>\n",
       "      <td>Medio</td>\n",
       "      <td>2025-03-08 11:38:17.720422</td>\n",
       "      <td>2.1.9</td>\n",
       "      <td>2025-03-08 11:41:45.968663</td>\n",
       "      <td>I</td>\n",
       "      <td>6</td>\n",
       "    </tr>\n",
       "    <tr>\n",
       "      <th>2694837</th>\n",
       "      <td>194571</td>\n",
       "      <td>16385</td>\n",
       "      <td>Windows</td>\n",
       "      <td>Medio</td>\n",
       "      <td>2025-03-08 11:38:17.720422</td>\n",
       "      <td>2.1.9</td>\n",
       "      <td>2025-03-08 11:41:55.968663</td>\n",
       "      <td>I</td>\n",
       "      <td>7</td>\n",
       "    </tr>\n",
       "    <tr>\n",
       "      <th>2694838</th>\n",
       "      <td>194571</td>\n",
       "      <td>16385</td>\n",
       "      <td>Windows</td>\n",
       "      <td>Medio</td>\n",
       "      <td>2025-03-08 11:38:17.720422</td>\n",
       "      <td>2.1.9</td>\n",
       "      <td>2025-03-08 11:43:08.095448</td>\n",
       "      <td>F</td>\n",
       "      <td>7</td>\n",
       "    </tr>\n",
       "    <tr>\n",
       "      <th>2694839</th>\n",
       "      <td>194571</td>\n",
       "      <td>16385</td>\n",
       "      <td>Windows</td>\n",
       "      <td>Medio</td>\n",
       "      <td>2025-03-08 11:38:17.720422</td>\n",
       "      <td>2.1.9</td>\n",
       "      <td>2025-03-08 11:43:18.095448</td>\n",
       "      <td>I</td>\n",
       "      <td>8</td>\n",
       "    </tr>\n",
       "    <tr>\n",
       "      <th>2694840</th>\n",
       "      <td>194571</td>\n",
       "      <td>16385</td>\n",
       "      <td>Windows</td>\n",
       "      <td>Medio</td>\n",
       "      <td>2025-03-08 11:38:17.720422</td>\n",
       "      <td>2.1.9</td>\n",
       "      <td>2025-03-08 11:44:18.319212</td>\n",
       "      <td>F</td>\n",
       "      <td>8</td>\n",
       "    </tr>\n",
       "  </tbody>\n",
       "</table>\n",
       "<p>633 rows × 9 columns</p>\n",
       "</div>"
      ],
      "text/plain": [
       "         id_sessao  id_jogador so_sessao trilha                 ts_criacao  \\\n",
       "2582802     186434       31459   Windows  Medio 2025-03-08 11:44:59.427037   \n",
       "2582803     186434       31459   Windows  Medio 2025-03-08 11:44:59.427037   \n",
       "2582804     186434       31459   Windows  Medio 2025-03-08 11:44:59.427037   \n",
       "2582805     186434       31459   Windows  Medio 2025-03-08 11:44:59.427037   \n",
       "2582806     186434       31459   Windows  Medio 2025-03-08 11:44:59.427037   \n",
       "...            ...         ...       ...    ...                        ...   \n",
       "2694836     194571       16385   Windows  Medio 2025-03-08 11:38:17.720422   \n",
       "2694837     194571       16385   Windows  Medio 2025-03-08 11:38:17.720422   \n",
       "2694838     194571       16385   Windows  Medio 2025-03-08 11:38:17.720422   \n",
       "2694839     194571       16385   Windows  Medio 2025-03-08 11:38:17.720422   \n",
       "2694840     194571       16385   Windows  Medio 2025-03-08 11:38:17.720422   \n",
       "\n",
       "        versao_jogo                  ts_evento indicador_conclusao  nivel  \n",
       "2582802       2.1.9 2025-03-08 11:44:59.427037                   I      1  \n",
       "2582803       2.1.9 2025-03-08 11:45:52.008633                   F      1  \n",
       "2582804       2.1.9 2025-03-08 11:46:02.008633                   I      2  \n",
       "2582805       2.1.9 2025-03-08 11:47:10.705606                   F      2  \n",
       "2582806       2.1.9 2025-03-08 11:47:20.705606                   I      3  \n",
       "...             ...                        ...                 ...    ...  \n",
       "2694836       2.1.9 2025-03-08 11:41:45.968663                   I      6  \n",
       "2694837       2.1.9 2025-03-08 11:41:55.968663                   I      7  \n",
       "2694838       2.1.9 2025-03-08 11:43:08.095448                   F      7  \n",
       "2694839       2.1.9 2025-03-08 11:43:18.095448                   I      8  \n",
       "2694840       2.1.9 2025-03-08 11:44:18.319212                   F      8  \n",
       "\n",
       "[633 rows x 9 columns]"
      ]
     },
     "execution_count": 10,
     "metadata": {},
     "output_type": "execute_result"
    }
   ],
   "source": [
    "# Instaura crise:\n",
    "t0 = datetime.datetime.fromisoformat('2025-03-08 10:00:00')\n",
    "t1 = datetime.datetime.fromisoformat('2025-03-08 12:00:00')\n",
    "\n",
    "df = df_base.copy(deep=True)\n",
    "\n",
    "query=\"@t0<ts_criacao<@t1 and so_sessao in ('Windows') and versao_jogo=='2.1.9'\"\n",
    "df.loc[df.query(query).index, ['ts_evento', 'ts_criacao']] += datetime.timedelta(hours=1.5)\n",
    "df.query(query)\n"
   ]
  },
  {
   "cell_type": "code",
   "execution_count": 35,
   "id": "0e5ce3e2-4a49-4df4-a0e2-481013af7cd0",
   "metadata": {},
   "outputs": [
    {
     "name": "stdout",
     "output_type": "stream",
     "text": [
      "CPU times: user 34.8 s, sys: 895 ms, total: 35.7 s\n",
      "Wall time: 37.1 s\n"
     ]
    },
    {
     "data": {
      "text/plain": [
       "202861"
      ]
     },
     "execution_count": 35,
     "metadata": {},
     "output_type": "execute_result"
    }
   ],
   "source": [
    "%%time \n",
    "\n",
    "df[['id_sessao','ts_evento','nivel','indicador_conclusao']].to_sql('eventos_sessao_rev',workshop_db_engine,index=False,if_exists='replace',\n",
    "  dtype={'id_sessao': sqla.types.INT, 'nivel':sqla.types.INT, 'ts_evento':sqla.types.TEXT})\n",
    "\n",
    "df[['id_sessao','id_jogador','so_sessao','trilha','ts_criacao','versao_jogo']].drop_duplicates().to_sql(\n",
    "    'sessao_jogador_rev',workshop_db_engine,index=False,if_exists='replace',dtype={'id_sessao': sqla.types.INT, 'id_jogador':sqla.types.INT, 'ts_criacao':sqla.types.TEXT})\n"
   ]
  },
  {
   "cell_type": "code",
   "execution_count": 37,
   "id": "47256e0e-f908-45d7-bca6-30c48f8e0b56",
   "metadata": {},
   "outputs": [],
   "source": [
    "df=df_base\n",
    "df_graf = df.groupby(\n",
    "    [\n",
    "        df.ts_evento.dt.floor('10min'),\n",
    "        'so_sessao',\n",
    "        'versao_jogo',\n",
    "        'nivel'\n",
    "    ]\n",
    ").agg({'ts_evento':'count'}).rename({'ts_evento':'ctg'}, axis=1)\n",
    "# ).agg({'ts_evento': 'count'}).rename({'ts_evento':'ctg'}, axis=1)"
   ]
  },
  {
   "cell_type": "code",
   "execution_count": 38,
   "id": "8d9b064d-a1a3-44fb-9f00-79998e24403b",
   "metadata": {},
   "outputs": [
    {
     "name": "stderr",
     "output_type": "stream",
     "text": [
      "/tmp/ipykernel_18620/3877597442.py:1: FutureWarning: The previous implementation of stack is deprecated and will be removed in a future version of pandas. See the What's New notes for pandas 2.1.0 for details. Specify future_stack=True to adopt the new implementation and silence this warning.\n",
      "  df_graf = df_graf.unstack([1,2,3]).resample('10min').sum().stack([1,2,3])\n"
     ]
    }
   ],
   "source": [
    "df_graf = df_graf.unstack([1,2,3]).resample('10min').sum().stack([1,2,3])"
   ]
  },
  {
   "cell_type": "code",
   "execution_count": 39,
   "id": "9ee39b1e-2881-416c-bf36-b2e3f1f9cdee",
   "metadata": {},
   "outputs": [
    {
     "data": {
      "text/html": [
       "<div>\n",
       "<style scoped>\n",
       "    .dataframe tbody tr th:only-of-type {\n",
       "        vertical-align: middle;\n",
       "    }\n",
       "\n",
       "    .dataframe tbody tr th {\n",
       "        vertical-align: top;\n",
       "    }\n",
       "\n",
       "    .dataframe thead th {\n",
       "        text-align: right;\n",
       "    }\n",
       "</style>\n",
       "<table border=\"1\" class=\"dataframe\">\n",
       "  <thead>\n",
       "    <tr style=\"text-align: right;\">\n",
       "      <th></th>\n",
       "      <th></th>\n",
       "      <th></th>\n",
       "      <th></th>\n",
       "      <th>ctg</th>\n",
       "    </tr>\n",
       "    <tr>\n",
       "      <th>ts_evento</th>\n",
       "      <th>so_sessao</th>\n",
       "      <th>versao_jogo</th>\n",
       "      <th>nivel</th>\n",
       "      <th></th>\n",
       "    </tr>\n",
       "  </thead>\n",
       "  <tbody>\n",
       "    <tr>\n",
       "      <th>2025-03-08 10:00:00</th>\n",
       "      <th>Windows</th>\n",
       "      <th>2.1.9</th>\n",
       "      <th>1</th>\n",
       "      <td>1.0</td>\n",
       "    </tr>\n",
       "    <tr>\n",
       "      <th>2025-03-08 10:10:00</th>\n",
       "      <th>Windows</th>\n",
       "      <th>2.1.9</th>\n",
       "      <th>1</th>\n",
       "      <td>0.0</td>\n",
       "    </tr>\n",
       "    <tr>\n",
       "      <th>2025-03-08 10:20:00</th>\n",
       "      <th>Windows</th>\n",
       "      <th>2.1.9</th>\n",
       "      <th>1</th>\n",
       "      <td>0.0</td>\n",
       "    </tr>\n",
       "    <tr>\n",
       "      <th>2025-03-08 10:30:00</th>\n",
       "      <th>Windows</th>\n",
       "      <th>2.1.9</th>\n",
       "      <th>1</th>\n",
       "      <td>0.0</td>\n",
       "    </tr>\n",
       "    <tr>\n",
       "      <th>2025-03-08 10:40:00</th>\n",
       "      <th>Windows</th>\n",
       "      <th>2.1.9</th>\n",
       "      <th>1</th>\n",
       "      <td>0.0</td>\n",
       "    </tr>\n",
       "    <tr>\n",
       "      <th>2025-03-08 10:50:00</th>\n",
       "      <th>Windows</th>\n",
       "      <th>2.1.9</th>\n",
       "      <th>1</th>\n",
       "      <td>0.0</td>\n",
       "    </tr>\n",
       "    <tr>\n",
       "      <th>2025-03-08 11:00:00</th>\n",
       "      <th>Windows</th>\n",
       "      <th>2.1.9</th>\n",
       "      <th>1</th>\n",
       "      <td>0.0</td>\n",
       "    </tr>\n",
       "    <tr>\n",
       "      <th>2025-03-08 11:10:00</th>\n",
       "      <th>Windows</th>\n",
       "      <th>2.1.9</th>\n",
       "      <th>1</th>\n",
       "      <td>0.0</td>\n",
       "    </tr>\n",
       "    <tr>\n",
       "      <th>2025-03-08 11:20:00</th>\n",
       "      <th>Windows</th>\n",
       "      <th>2.1.9</th>\n",
       "      <th>1</th>\n",
       "      <td>0.0</td>\n",
       "    </tr>\n",
       "    <tr>\n",
       "      <th>2025-03-08 11:30:00</th>\n",
       "      <th>Windows</th>\n",
       "      <th>2.1.9</th>\n",
       "      <th>1</th>\n",
       "      <td>29.0</td>\n",
       "    </tr>\n",
       "    <tr>\n",
       "      <th>2025-03-08 11:40:00</th>\n",
       "      <th>Windows</th>\n",
       "      <th>2.1.9</th>\n",
       "      <th>1</th>\n",
       "      <td>25.0</td>\n",
       "    </tr>\n",
       "    <tr>\n",
       "      <th>2025-03-08 11:50:00</th>\n",
       "      <th>Windows</th>\n",
       "      <th>2.1.9</th>\n",
       "      <th>1</th>\n",
       "      <td>44.0</td>\n",
       "    </tr>\n",
       "    <tr>\n",
       "      <th>2025-03-08 12:00:00</th>\n",
       "      <th>Windows</th>\n",
       "      <th>2.1.9</th>\n",
       "      <th>1</th>\n",
       "      <td>47.0</td>\n",
       "    </tr>\n",
       "  </tbody>\n",
       "</table>\n",
       "</div>"
      ],
      "text/plain": [
       "                                                  ctg\n",
       "ts_evento           so_sessao versao_jogo nivel      \n",
       "2025-03-08 10:00:00 Windows   2.1.9       1       1.0\n",
       "2025-03-08 10:10:00 Windows   2.1.9       1       0.0\n",
       "2025-03-08 10:20:00 Windows   2.1.9       1       0.0\n",
       "2025-03-08 10:30:00 Windows   2.1.9       1       0.0\n",
       "2025-03-08 10:40:00 Windows   2.1.9       1       0.0\n",
       "2025-03-08 10:50:00 Windows   2.1.9       1       0.0\n",
       "2025-03-08 11:00:00 Windows   2.1.9       1       0.0\n",
       "2025-03-08 11:10:00 Windows   2.1.9       1       0.0\n",
       "2025-03-08 11:20:00 Windows   2.1.9       1       0.0\n",
       "2025-03-08 11:30:00 Windows   2.1.9       1      29.0\n",
       "2025-03-08 11:40:00 Windows   2.1.9       1      25.0\n",
       "2025-03-08 11:50:00 Windows   2.1.9       1      44.0\n",
       "2025-03-08 12:00:00 Windows   2.1.9       1      47.0"
      ]
     },
     "execution_count": 39,
     "metadata": {},
     "output_type": "execute_result"
    }
   ],
   "source": [
    "# df_graf\n",
    "df_graf.loc[t0:t1,'Windows','2.1.9',1]"
   ]
  },
  {
   "cell_type": "code",
   "execution_count": 43,
   "id": "06ca90fc-7712-41fc-b457-7d79c67472a0",
   "metadata": {},
   "outputs": [
    {
     "data": {
      "text/plain": [
       "[]"
      ]
     },
     "execution_count": 43,
     "metadata": {},
     "output_type": "execute_result"
    },
    {
     "data": {
      "image/png": "[encoded data removed]",
      "text/plain": [
       "<Figure size 350x262.5 with 1 Axes>"
      ]
     },
     "metadata": {},
     "output_type": "display_data"
    }
   ],
   "source": [
    "# x = df_graf.loc[:,1,:].index\n",
    "# y = df_graf.loc[:,1,:].values.flatten()\n",
    "\n",
    "fig, ax = plt.subplots()\n",
    "# ax.bar(df_graf.loc[:,1,:]['id_sessao'], width=0.005)\n",
    "ax.plot(df_graf.loc['2025-03-08':'2025-03-08','Windows','2.1.9',1].droplevel([1,2,3]))\n",
    "# ax.plot(df_graf.loc[:,'Mac','2.1.9',1])\n",
    "# ax.plot(df_graf.loc[:,'Linux','2.1.9',1])\n",
    "# ax.plot(df_graf.loc[:,'Windows','1.5.3',1])\n",
    "plt.xticks(rotation=70)\n",
    "plt.plot()"
   ]
  },
  {
   "cell_type": "markdown",
   "id": "5645ff33-f1d3-469f-b5cb-8b6c7c207a0b",
   "metadata": {
    "jp-MarkdownHeadingCollapsed": true
   },
   "source": [
    "# Gráficos"
   ]
  },
  {
   "cell_type": "code",
   "execution_count": 313,
   "id": "477a5aab-b558-45bc-b8c8-140981e8223a",
   "metadata": {},
   "outputs": [],
   "source": [
    "df2=df.groupby([\n",
    "    df['ts_criacao'].dt.floor('30min'),\n",
    "    df['so_sessao'],\n",
    "    df['trilha'],\n",
    "    df['versao_jogo']\n",
    "]).count()\n"
   ]
  },
  {
   "cell_type": "code",
   "execution_count": 332,
   "id": "ac4bea1e-fae5-4814-808f-9668d56929b1",
   "metadata": {},
   "outputs": [
    {
     "data": {
      "text/plain": [
       "<Axes: xlabel='ts_criacao'>"
      ]
     },
     "execution_count": 332,
     "metadata": {},
     "output_type": "execute_result"
    },
    {
     "data": {
      "image/png": "[encoded data removed]",
      "text/plain": [
       "<Figure size 350x262.5 with 1 Axes>"
      ]
     },
     "metadata": {},
     "output_type": "display_data"
    }
   ],
   "source": [
    "df2.loc[:,'Windows',:,:]['id_sessao'].groupby(axis=0, level=[0]).sum().plot()\n",
    "df2.loc[:,'Linux',:,:]['id_sessao'].groupby(axis=0, level=[0]).sum().plot()\n",
    "df2.loc[:,'Mac',:,:]['id_sessao'].groupby(axis=0, level=[0]).sum().plot()\n",
    "# df2.loc[:,'Windows','Medio','2.1.0']['id_sessao'].plot()\n",
    "# df2.loc[:,'Windows','Dificil','2.1.0']['id_sessao'].plot()\n",
    "# plt.legend()"
   ]
  }
 ],
 "metadata": {
  "kernelspec": {
   "display_name": "Python 3 (ipykernel)",
   "language": "python",
   "name": "python3"
  },
  "language_info": {
   "codemirror_mode": {
    "name": "ipython",
    "version": 3
   },
   "file_extension": ".py",
   "mimetype": "text/x-python",
   "name": "python",
   "nbconvert_exporter": "python",
   "pygments_lexer": "ipython3",
   "version": "3.11.7"
  }
 },
 "nbformat": 4,
 "nbformat_minor": 5
}
