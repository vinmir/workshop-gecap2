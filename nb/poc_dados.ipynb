{
 "cells": [
  {
   "cell_type": "code",
   "execution_count": 19,
   "id": "383ef125-cb6c-4e4a-876b-34b53de77e44",
   "metadata": {},
   "outputs": [],
   "source": [
    "import matplotlib.pyplot as plt\n",
    "import scienceplots\n",
    "\n",
    "\n",
    "import numpy as np\n",
    "import scipy.stats\n",
    "import pandas as pd\n",
    "\n",
    "import datetime\n",
    "\n",
    "import sqlalchemy as sqla\n",
    "\n",
    "from pathlib import Path"
   ]
  },
  {
   "cell_type": "code",
   "execution_count": 23,
   "id": "38cc5533-084b-46fd-b6c4-c910c9a99b54",
   "metadata": {},
   "outputs": [],
   "source": []
  },
  {
   "cell_type": "code",
   "execution_count": 2,
   "id": "a1252241-7bd8-466c-89fc-5827b300f726",
   "metadata": {},
   "outputs": [],
   "source": [
    "plt.style.use(['science','no-latex'])"
   ]
  },
  {
   "cell_type": "code",
   "execution_count": null,
   "id": "ae1f1c40-88ba-4ed7-9209-8de1b517068d",
   "metadata": {},
   "outputs": [],
   "source": []
  },
  {
   "cell_type": "code",
   "execution_count": null,
   "id": "07b3e0a2-00ce-47af-9aa5-416304434b33",
   "metadata": {},
   "outputs": [],
   "source": []
  },
  {
   "cell_type": "code",
   "execution_count": 5,
   "id": "6939132e-0176-4206-a59f-dd4cd80a19e4",
   "metadata": {},
   "outputs": [],
   "source": [
    "ids_jogadores = np.arange(1, 40000+1, dtype=int)"
   ]
  },
  {
   "cell_type": "code",
   "execution_count": 8,
   "id": "39bd99d6-d35a-4e43-81d3-6623a54f8110",
   "metadata": {},
   "outputs": [],
   "source": [
    "dist_inicio_sessao = scipy.stats.norm(43200,7200)\n",
    "ids_jogadores_sessoes = np.random.choice(ids_jogadores, np.int32(np.floor(5000)))\n",
    "ids_sessoes = np.arange(1,5000+1,dtype=np.int32)\n",
    "so_sessoes = np.random.choice(['Windows', 'Mac', 'Linux'], p=[0.7, .25, .05], size=5000)\n",
    "trilhas = np.random.choice(['Facil', 'Medio', 'Dificil'], p=[0.5, .3, .2], size=5000)\n",
    "versoes = np.random.choice(['2.0.0', '2.1.0'], p=[0.9, .1], size=5000)\n",
    "horarios = dist_inicio_sessao.rvs(5000)\n"
   ]
  },
  {
   "cell_type": "code",
   "execution_count": 9,
   "id": "5d6c866b-533b-496d-b764-5124338666d6",
   "metadata": {
    "scrolled": true
   },
   "outputs": [],
   "source": [
    "dia = datetime.datetime.fromisoformat('2025-02-24')\n",
    "arr=[]\n",
    "for i in range(ids_sessoes.size):\n",
    "    id_sessao = ids_sessoes[i]\n",
    "    id_jogador = ids_jogadores_sessoes[i]\n",
    "    so_sessao = so_sessoes[i]\n",
    "    trilha = trilhas[i]\n",
    "    versao_jogo = versoes[i]\n",
    "    ts_criacao = dia + datetime.timedelta(seconds=horarios[i])\n",
    "    arr.append([id_sessao, id_jogador, so_sessao, trilha, ts_criacao, versao_jogo])\n",
    "\n",
    "df_sessoes = pd.DataFrame(arr, columns=['id_sessao','id_jogador','so_sessao','trilha','ts_criacao','versao_jogo']).set_index('id_sessao')\n"
   ]
  },
  {
   "cell_type": "code",
   "execution_count": 10,
   "id": "81f079e0-edc6-4549-bf4b-fc395900d871",
   "metadata": {},
   "outputs": [],
   "source": [
    "dtypes={'trilha': 'object', 'nivel': np.int32, \n",
    "           'prob_conclusao': np.float64, 'prob_continuar':np.float64}\n",
    "df_prob = pd.DataFrame(np.array([\n",
    "    ['Facil', 1, 0.97, 0.99],\n",
    "    ['Facil', 2, 0.97, 0.99],\n",
    "    ['Facil', 3, 0.95, 0.99],\n",
    "    ['Facil', 4, 0.95, 0.99],\n",
    "    ['Facil', 5, 0.93, 0.99],\n",
    "    ['Medio', 1, 0.97, 0.99],\n",
    "    ['Medio', 2, 0.97, 0.99],\n",
    "    ['Medio', 3, 0.95, 0.99],\n",
    "    ['Medio', 4, 0.95, 0.99],\n",
    "    ['Medio', 5, 0.93, 0.99],\n",
    "    ['Medio', 6, 0.90, 0.99],\n",
    "    ['Medio', 7, 0.90, 0.99],\n",
    "    ['Medio', 8, 0.85, 0.99],\n",
    "    ['Dificil', 1, 0.97, 0.99],\n",
    "    ['Dificil', 2, 0.97, 0.99],\n",
    "    ['Dificil', 3, 0.95, 0.99],\n",
    "    ['Dificil', 4, 0.95, 0.99],\n",
    "    ['Dificil', 5, 0.93, 0.99],\n",
    "    ['Dificil', 6, 0.90, 0.99],\n",
    "    ['Dificil', 7, 0.90, 0.99],\n",
    "    ['Dificil', 8, 0.85, 0.99], \n",
    "    ['Dificil', 9, 0.85, 0.99], \n",
    "    ['Dificil', 10, 0.80, 0.99], \n",
    "    ['Dificil', 11, 0.80, 0.99], \n",
    "    ['Dificil', 12, 0.77, 0.99], \n",
    "    ['Dificil', 13, 0.70, 0.99]\n",
    "]), columns=['trilha','nivel','prob_conclusao','prob_continuar'])\n",
    "df_prob = df_prob.astype(dtype=dtypes).set_index(['trilha','nivel'])\n",
    "\n"
   ]
  },
  {
   "cell_type": "code",
   "execution_count": 25,
   "id": "d0dcde03-a2ae-41ee-a20f-fd319ae6e69e",
   "metadata": {},
   "outputs": [],
   "source": [
    "arquivo = Path(\"../data/eventos_sessao.csv\")\n"
   ]
  },
  {
   "cell_type": "code",
   "execution_count": 11,
   "id": "de320a2e-dad6-4eae-bd6a-3b764e857910",
   "metadata": {},
   "outputs": [],
   "source": [
    "Path(\"../data/eventos_sessao.csv\").unlink()\n",
    "arr = []\n",
    "dist_tempo_nivel = scipy.stats.norm(loc=60,scale=10)\n",
    "for index, row in df_sessoes.reset_index().iterrows():\n",
    "    # if index > 2: break\n",
    "    id_sessao = row['id_sessao']\n",
    "    trilha = row['trilha']\n",
    "    ts_evento = row['ts_criacao']\n",
    "    for nivel, (p_concluir, p_continuar) in df_prob.loc[trilha,:].iterrows():\n",
    "        # print(id_sessao, trilha, nivel, ts_evento, 'I')\n",
    "        arr.append([id_sessao, ts_evento, nivel, 'I'])\n",
    "        if np.random.random_sample() < p_concluir:\n",
    "            ts_evento += + datetime.timedelta(seconds=dist_tempo_nivel.rvs())\n",
    "            # print(id_sessao, trilha, nivel, ts_evento, 'F')\n",
    "            arr.append([id_sessao, ts_evento, nivel, 'F'])\n",
    "        if np.random.random_sample() < (1-p_continuar):\n",
    "            break\n",
    "        ts_evento += + datetime.timedelta(seconds=10)\n",
    "\n",
    "df_eventos = pd.DataFrame(arr, columns=['id_sessao','ts_evento','nivel','indicador'])"
   ]
  },
  {
   "cell_type": "code",
   "execution_count": 18,
   "id": "fae37594-4f48-477b-ae58-613e6f8e608d",
   "metadata": {},
   "outputs": [],
   "source": [
    "# df_eventos.head().to_csv(\"../data/eventos_temp.csv\",mode='a', index=False)\n",
    "df_eventos.head().to_csv(\"../data/eventos_temp.csv\",mode='a', index=False, header=False)"
   ]
  },
  {
   "cell_type": "markdown",
   "id": "5645ff33-f1d3-469f-b5cb-8b6c7c207a0b",
   "metadata": {
    "jp-MarkdownHeadingCollapsed": true
   },
   "source": [
    "# Gráficos"
   ]
  },
  {
   "cell_type": "code",
   "execution_count": 313,
   "id": "477a5aab-b558-45bc-b8c8-140981e8223a",
   "metadata": {},
   "outputs": [],
   "source": [
    "df2=df.groupby([\n",
    "    df['ts_criacao'].dt.floor('30min'),\n",
    "    df['so_sessao'],\n",
    "    df['trilha'],\n",
    "    df['versao_jogo']\n",
    "]).count()\n"
   ]
  },
  {
   "cell_type": "code",
   "execution_count": 332,
   "id": "ac4bea1e-fae5-4814-808f-9668d56929b1",
   "metadata": {},
   "outputs": [
    {
     "data": {
      "text/plain": [
       "<Axes: xlabel='ts_criacao'>"
      ]
     },
     "execution_count": 332,
     "metadata": {},
     "output_type": "execute_result"
    },
    {
     "data": {
      "image/png": "[encoded data removed]",
      "text/plain": [
       "<Figure size 350x262.5 with 1 Axes>"
      ]
     },
     "metadata": {},
     "output_type": "display_data"
    }
   ],
   "source": [
    "df2.loc[:,'Windows',:,:]['id_sessao'].groupby(axis=0, level=[0]).sum().plot()\n",
    "df2.loc[:,'Linux',:,:]['id_sessao'].groupby(axis=0, level=[0]).sum().plot()\n",
    "df2.loc[:,'Mac',:,:]['id_sessao'].groupby(axis=0, level=[0]).sum().plot()\n",
    "# df2.loc[:,'Windows','Medio','2.1.0']['id_sessao'].plot()\n",
    "# df2.loc[:,'Windows','Dificil','2.1.0']['id_sessao'].plot()\n",
    "# plt.legend()"
   ]
  }
 ],
 "metadata": {
  "kernelspec": {
   "display_name": "Python 3 (ipykernel)",
   "language": "python",
   "name": "python3"
  },
  "language_info": {
   "codemirror_mode": {
    "name": "ipython",
    "version": 3
   },
   "file_extension": ".py",
   "mimetype": "text/x-python",
   "name": "python",
   "nbconvert_exporter": "python",
   "pygments_lexer": "ipython3",
   "version": "3.11.7"
  }
 },
 "nbformat": 4,
 "nbformat_minor": 5
}
