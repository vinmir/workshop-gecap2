{
 "cells": [
  {
   "cell_type": "code",
   "execution_count": 2,
   "id": "db7e2865",
   "metadata": {},
   "outputs": [
    {
     "name": "stdout",
     "output_type": "stream",
     "text": [
      "Requirement already satisfied: Faker in c:\\users\\dioni\\anaconda3\\lib\\site-packages (37.0.0)\n",
      "Requirement already satisfied: tzdata in c:\\users\\dioni\\anaconda3\\lib\\site-packages (from Faker) (2025.1)\n",
      "Note: you may need to restart the kernel to use updated packages.\n"
     ]
    }
   ],
   "source": [
    "# Instalando o Faker\n",
    "pip install Faker"
   ]
  },
  {
   "cell_type": "code",
   "execution_count": 3,
   "id": "73145e19",
   "metadata": {},
   "outputs": [],
   "source": [
    "# Imports\n",
    "from faker import Faker\n",
    "import numpy as np\n",
    "import pandas as pd"
   ]
  },
  {
   "cell_type": "code",
   "execution_count": 161,
   "id": "be3ca6c5",
   "metadata": {},
   "outputs": [
    {
     "data": {
      "text/plain": [
       "id_jogador     int32\n",
       "nome          object\n",
       "email         object\n",
       "dtype: object"
      ]
     },
     "execution_count": 161,
     "metadata": {},
     "output_type": "execute_result"
    }
   ],
   "source": [
    "fake = Faker('pt_BR')\n",
    "dtypes={'id_jogador': np.int32,'nome': 'object', 'email': 'object'}\n",
    "df_temp = pd.DataFrame(columns=['id_jogador','nome', 'email'])\n",
    "df_temp.dtypes\n",
    "\n",
    "df_jogadores = df_temp.astype(dtype=dtypes)\n",
    "df_jogadores.dtypes"
   ]
  },
  {
   "cell_type": "code",
   "execution_count": 162,
   "id": "f2e1fd46",
   "metadata": {},
   "outputs": [
    {
     "data": {
      "text/html": [
       "<div>\n",
       "<style scoped>\n",
       "    .dataframe tbody tr th:only-of-type {\n",
       "        vertical-align: middle;\n",
       "    }\n",
       "\n",
       "    .dataframe tbody tr th {\n",
       "        vertical-align: top;\n",
       "    }\n",
       "\n",
       "    .dataframe thead th {\n",
       "        text-align: right;\n",
       "    }\n",
       "</style>\n",
       "<table border=\"1\" class=\"dataframe\">\n",
       "  <thead>\n",
       "    <tr style=\"text-align: right;\">\n",
       "      <th></th>\n",
       "      <th>id_jogador</th>\n",
       "      <th>nome</th>\n",
       "      <th>email</th>\n",
       "    </tr>\n",
       "  </thead>\n",
       "  <tbody>\n",
       "    <tr>\n",
       "      <th>0</th>\n",
       "      <td>1</td>\n",
       "      <td>NaN</td>\n",
       "      <td>NaN</td>\n",
       "    </tr>\n",
       "    <tr>\n",
       "      <th>1</th>\n",
       "      <td>2</td>\n",
       "      <td>NaN</td>\n",
       "      <td>NaN</td>\n",
       "    </tr>\n",
       "    <tr>\n",
       "      <th>2</th>\n",
       "      <td>3</td>\n",
       "      <td>NaN</td>\n",
       "      <td>NaN</td>\n",
       "    </tr>\n",
       "    <tr>\n",
       "      <th>3</th>\n",
       "      <td>4</td>\n",
       "      <td>NaN</td>\n",
       "      <td>NaN</td>\n",
       "    </tr>\n",
       "    <tr>\n",
       "      <th>4</th>\n",
       "      <td>5</td>\n",
       "      <td>NaN</td>\n",
       "      <td>NaN</td>\n",
       "    </tr>\n",
       "    <tr>\n",
       "      <th>...</th>\n",
       "      <td>...</td>\n",
       "      <td>...</td>\n",
       "      <td>...</td>\n",
       "    </tr>\n",
       "    <tr>\n",
       "      <th>39995</th>\n",
       "      <td>39996</td>\n",
       "      <td>NaN</td>\n",
       "      <td>NaN</td>\n",
       "    </tr>\n",
       "    <tr>\n",
       "      <th>39996</th>\n",
       "      <td>39997</td>\n",
       "      <td>NaN</td>\n",
       "      <td>NaN</td>\n",
       "    </tr>\n",
       "    <tr>\n",
       "      <th>39997</th>\n",
       "      <td>39998</td>\n",
       "      <td>NaN</td>\n",
       "      <td>NaN</td>\n",
       "    </tr>\n",
       "    <tr>\n",
       "      <th>39998</th>\n",
       "      <td>39999</td>\n",
       "      <td>NaN</td>\n",
       "      <td>NaN</td>\n",
       "    </tr>\n",
       "    <tr>\n",
       "      <th>39999</th>\n",
       "      <td>40000</td>\n",
       "      <td>NaN</td>\n",
       "      <td>NaN</td>\n",
       "    </tr>\n",
       "  </tbody>\n",
       "</table>\n",
       "<p>40000 rows × 3 columns</p>\n",
       "</div>"
      ],
      "text/plain": [
       "       id_jogador nome email\n",
       "0               1  NaN   NaN\n",
       "1               2  NaN   NaN\n",
       "2               3  NaN   NaN\n",
       "3               4  NaN   NaN\n",
       "4               5  NaN   NaN\n",
       "...           ...  ...   ...\n",
       "39995       39996  NaN   NaN\n",
       "39996       39997  NaN   NaN\n",
       "39997       39998  NaN   NaN\n",
       "39998       39999  NaN   NaN\n",
       "39999       40000  NaN   NaN\n",
       "\n",
       "[40000 rows x 3 columns]"
      ]
     },
     "execution_count": 162,
     "metadata": {},
     "output_type": "execute_result"
    }
   ],
   "source": [
    "# Array contendo o ID dos 40000 jogadores\n",
    "ids_jogadores = np.arange(1, 40000+1, dtype=int)\n",
    "\n",
    "# Adicionando o array de ID ao df_jogadores\n",
    "df_jogadores['id_jogador'] = ids_jogadores\n",
    "df_jogadores"
   ]
  },
  {
   "cell_type": "code",
   "execution_count": 163,
   "id": "d5dbbd4b",
   "metadata": {},
   "outputs": [
    {
     "data": {
      "text/plain": [
       "array([0.34782609, 0.26086957, 0.2173913 , 0.13043478, 0.04347826])"
      ]
     },
     "metadata": {},
     "output_type": "display_data"
    }
   ],
   "source": [
    "# Geração de email aleatório dado os pesos e suas respectivas normalização\n",
    "\n",
    "email_domain = [\"@gmail.com\", \"@hotmail.com\", \"@outlook.com\", \"@proton.me\", \"@bb.com.br\"]\n",
    "prob_domain = np.array([8, 6, 5, 3, 1])\n",
    "prob_domain = prob_domain / prob_domain.sum()\n",
    "display(prob_domain)"
   ]
  },
  {
   "cell_type": "code",
   "execution_count": 164,
   "id": "650f5526",
   "metadata": {},
   "outputs": [],
   "source": [
    "for i in range(df_jogadores.shape[0]):\n",
    "    nome = fake.name()\n",
    "    email = nome.replace(\" \", \"\").lower() + np.random.choice(email_domain, p=prob_domain)\n",
    "    df_jogadores.loc[i,'nome'] = nome\n",
    "    df_jogadores.loc[i,'email'] = email"
   ]
  },
  {
   "cell_type": "code",
   "execution_count": 165,
   "id": "e5630dc7",
   "metadata": {},
   "outputs": [
    {
     "data": {
      "text/html": [
       "<div>\n",
       "<style scoped>\n",
       "    .dataframe tbody tr th:only-of-type {\n",
       "        vertical-align: middle;\n",
       "    }\n",
       "\n",
       "    .dataframe tbody tr th {\n",
       "        vertical-align: top;\n",
       "    }\n",
       "\n",
       "    .dataframe thead th {\n",
       "        text-align: right;\n",
       "    }\n",
       "</style>\n",
       "<table border=\"1\" class=\"dataframe\">\n",
       "  <thead>\n",
       "    <tr style=\"text-align: right;\">\n",
       "      <th></th>\n",
       "      <th>id_jogador</th>\n",
       "      <th>nome</th>\n",
       "      <th>email</th>\n",
       "    </tr>\n",
       "  </thead>\n",
       "  <tbody>\n",
       "    <tr>\n",
       "      <th>0</th>\n",
       "      <td>1</td>\n",
       "      <td>Bella Barros</td>\n",
       "      <td>bellabarros@hotmail.com</td>\n",
       "    </tr>\n",
       "    <tr>\n",
       "      <th>1</th>\n",
       "      <td>2</td>\n",
       "      <td>Theo Duarte</td>\n",
       "      <td>theoduarte@gmail.com</td>\n",
       "    </tr>\n",
       "    <tr>\n",
       "      <th>2</th>\n",
       "      <td>3</td>\n",
       "      <td>Ana Carolina Cavalcanti</td>\n",
       "      <td>anacarolinacavalcanti@gmail.com</td>\n",
       "    </tr>\n",
       "    <tr>\n",
       "      <th>3</th>\n",
       "      <td>4</td>\n",
       "      <td>Sophie Jesus</td>\n",
       "      <td>sophiejesus@gmail.com</td>\n",
       "    </tr>\n",
       "    <tr>\n",
       "      <th>4</th>\n",
       "      <td>5</td>\n",
       "      <td>Sabrina Costa</td>\n",
       "      <td>sabrinacosta@gmail.com</td>\n",
       "    </tr>\n",
       "    <tr>\n",
       "      <th>...</th>\n",
       "      <td>...</td>\n",
       "      <td>...</td>\n",
       "      <td>...</td>\n",
       "    </tr>\n",
       "    <tr>\n",
       "      <th>39995</th>\n",
       "      <td>39996</td>\n",
       "      <td>Ana Liz Caldeira</td>\n",
       "      <td>analizcaldeira@hotmail.com</td>\n",
       "    </tr>\n",
       "    <tr>\n",
       "      <th>39996</th>\n",
       "      <td>39997</td>\n",
       "      <td>Luiz Miguel Correia</td>\n",
       "      <td>luizmiguelcorreia@hotmail.com</td>\n",
       "    </tr>\n",
       "    <tr>\n",
       "      <th>39997</th>\n",
       "      <td>39998</td>\n",
       "      <td>Giovanna Novaes</td>\n",
       "      <td>giovannanovaes@gmail.com</td>\n",
       "    </tr>\n",
       "    <tr>\n",
       "      <th>39998</th>\n",
       "      <td>39999</td>\n",
       "      <td>Bella Rodrigues</td>\n",
       "      <td>bellarodrigues@outlook.com</td>\n",
       "    </tr>\n",
       "    <tr>\n",
       "      <th>39999</th>\n",
       "      <td>40000</td>\n",
       "      <td>Antonella Vasconcelos</td>\n",
       "      <td>antonellavasconcelos@outlook.com</td>\n",
       "    </tr>\n",
       "  </tbody>\n",
       "</table>\n",
       "<p>40000 rows × 3 columns</p>\n",
       "</div>"
      ],
      "text/plain": [
       "       id_jogador                     nome                             email\n",
       "0               1             Bella Barros           bellabarros@hotmail.com\n",
       "1               2              Theo Duarte              theoduarte@gmail.com\n",
       "2               3  Ana Carolina Cavalcanti   anacarolinacavalcanti@gmail.com\n",
       "3               4             Sophie Jesus             sophiejesus@gmail.com\n",
       "4               5            Sabrina Costa            sabrinacosta@gmail.com\n",
       "...           ...                      ...                               ...\n",
       "39995       39996         Ana Liz Caldeira        analizcaldeira@hotmail.com\n",
       "39996       39997      Luiz Miguel Correia     luizmiguelcorreia@hotmail.com\n",
       "39997       39998          Giovanna Novaes          giovannanovaes@gmail.com\n",
       "39998       39999          Bella Rodrigues        bellarodrigues@outlook.com\n",
       "39999       40000    Antonella Vasconcelos  antonellavasconcelos@outlook.com\n",
       "\n",
       "[40000 rows x 3 columns]"
      ]
     },
     "execution_count": 165,
     "metadata": {},
     "output_type": "execute_result"
    }
   ],
   "source": [
    "df_jogadores"
   ]
  },
  {
   "cell_type": "code",
   "execution_count": 66,
   "id": "d1ce418b",
   "metadata": {},
   "outputs": [
    {
     "name": "stdout",
     "output_type": "stream",
     "text": [
      "[['1' '1.0']\n",
      " ['2' '0.5']\n",
      " ['3' '0.3333333333333333']\n",
      " ...\n",
      " ['39998' '2.5001250062503124e-05']\n",
      " ['39999' '2.500062501562539e-05']\n",
      " ['40000' '2.5e-05']]\n"
     ]
    }
   ],
   "source": [
    "# Estudos e testes numpy\n",
    "lista = [ids_jogadores, 1/ids_jogadores]\n",
    "print(np.array(lista, dtype=np.str_).T)"
   ]
  },
  {
   "cell_type": "code",
   "execution_count": 167,
   "id": "21b98451",
   "metadata": {},
   "outputs": [],
   "source": [
    "# Salvando arquivo csv a partir do df_jogadores\n",
    "df_jogadores.to_csv(\"../data/jogadores.csv\",mode='w', index=False, header=True)\n"
   ]
  }
 ],
 "metadata": {
  "kernelspec": {
   "display_name": "Python 3 (ipykernel)",
   "language": "python",
   "name": "python3"
  },
  "language_info": {
   "codemirror_mode": {
    "name": "ipython",
    "version": 3
   },
   "file_extension": ".py",
   "mimetype": "text/x-python",
   "name": "python",
   "nbconvert_exporter": "python",
   "pygments_lexer": "ipython3",
   "version": "3.9.19"
  }
 },
 "nbformat": 4,
 "nbformat_minor": 5
}
